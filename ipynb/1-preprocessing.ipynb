{
  "cells": [
    {
      "cell_type": "markdown",
      "id": "0f71ffab",
      "metadata": {
        "lines_to_next_cell": 0
      },
      "source": [
        "# 1. Preprocessing\n",
        "\n",
        "<!--<badge>--><a href=\"https://colab.research.google.com/github/alexenge/intro-to-eeg/blob/main/ipynb/1-preprocessing.ipynb\" target=\"_parent\"><img src=\"https://colab.research.google.com/assets/colab-badge.svg\" alt=\"Open In Colab\"/></a><!--</badge>-->\n",
        "<br><br>\n",
        "\n",
        "Here we will:\n",
        "* Load raw EEG data from a single participant\n",
        "* Plot the raw data\n",
        "* Filter the data to remove low and high frequency noise\n",
        "* Correct eye artifacts using independent component analysis (ICA)\n",
        "* Re-reference the data to the average of all electrodes\n"
      ]
    },
    {
      "cell_type": "markdown",
      "id": "2cc786d0",
      "metadata": {
        "lines_to_next_cell": 0
      },
      "source": [
        "## 1.1. Load Python modules\n",
        "\n",
        "We will use the following Python modules:\n",
        "* [MNE](https://mne.tools/stable/index.html) for EEG data analysis\n",
        "* [hu-neuro-pipeline](https://github.com/alexenge/hu-neuro-pipeline) for downloading example data\n"
      ]
    },
    {
      "cell_type": "code",
      "execution_count": null,
      "id": "fee03ac5",
      "metadata": {},
      "outputs": [],
      "source": [
        "from mne import set_bipolar_reference\n",
        "from mne.io import read_raw\n",
        "from mne.preprocessing import ICA\n",
        "from mne.viz import set_browser_backend\n",
        "from pipeline.datasets import get_erpcore"
      ]
    },
    {
      "cell_type": "markdown",
      "id": "c3bcc726",
      "metadata": {
        "lines_to_next_cell": 0
      },
      "source": [
        "## 1.2 Download example data\n",
        "\n",
        "We'll use data from the ERP CORE dataset ([Kappenman et al., 2021](https://doi.org/10.1016/j.neuroimage.2020.117465)).\n",
        "This dataset contains EEG data from 40 participants who completed 6 different experiments.\n",
        "Each experiment was designed to elicit one or two commonly studied ERP components.\n",
        "\n",
        "<img src=\"https://ars.els-cdn.com/content/image/1-s2.0-S1053811920309502-gr1.jpg\" width=\"500\">\n",
        "<br><br>\n",
        "\n",
        "In this example, we'll use the data from one participant from the face percpetion (N170) experiment.\n"
      ]
    },
    {
      "cell_type": "code",
      "execution_count": null,
      "id": "81f46252",
      "metadata": {},
      "outputs": [],
      "source": [
        "files_dict = get_erpcore('N170', participants='sub-004')\n",
        "files_dict"
      ]
    },
    {
      "cell_type": "markdown",
      "id": "3110bcc8",
      "metadata": {
        "lines_to_next_cell": 0
      },
      "source": [
        "## 1.3 Load raw data\n",
        "\n",
        "We read the actual EEG data files (`eeg.set`/`eeg.fdt`) into MNE-Python.\n",
        "The result is a `Raw` object, which contains the continuous EEG data and some metadata.\n"
      ]
    },
    {
      "cell_type": "code",
      "execution_count": null,
      "id": "ec5bdc2c",
      "metadata": {},
      "outputs": [],
      "source": [
        "raw_file = files_dict['raw_files'][0]\n",
        "raw = read_raw(raw_file, preload=True)\n",
        "raw"
      ]
    },
    {
      "cell_type": "markdown",
      "id": "248a6868",
      "metadata": {
        "lines_to_next_cell": 0
      },
      "source": [
        "\n",
        "We can access the actual data array using the `get_data()` method.\n",
        "Let's check the size (number of dimensions and their length) of this array:\n"
      ]
    },
    {
      "cell_type": "code",
      "execution_count": null,
      "id": "ec9b688d",
      "metadata": {},
      "outputs": [],
      "source": [
        "raw.get_data().shape"
      ]
    },
    {
      "cell_type": "markdown",
      "id": "fd3cc704",
      "metadata": {
        "lines_to_next_cell": 0
      },
      "source": [
        "## 1.4. Plot raw data\n",
        "\n",
        "We can plot the raw data using the `plot()` method.\n",
        "In notebook-like environments (such as Google Colab), we need to use the `'matplotlib'` backend, which will create a static image.\n",
        "On a local machine, we could use the default `'browser'` backend, which will create an interactive plot in a new window.\n",
        "\n",
        "We specifiy which time segment of the data to plot using the `start` and `duration` arguments.\n",
        "Here we plot 5 seconds of data, starting at 60 seconds.\n"
      ]
    },
    {
      "cell_type": "code",
      "execution_count": null,
      "id": "05788946",
      "metadata": {},
      "outputs": [],
      "source": [
        "set_browser_backend('matplotlib')\n",
        "_ = raw.plot(start=60.0, duration=5.0)"
      ]
    },
    {
      "cell_type": "markdown",
      "id": "7e2a1578",
      "metadata": {
        "lines_to_next_cell": 0
      },
      "source": [
        "## 1.5 Add channel information\n"
      ]
    },
    {
      "cell_type": "code",
      "execution_count": null,
      "id": "b8e5da7a",
      "metadata": {},
      "outputs": [],
      "source": [
        "raw = set_bipolar_reference(raw, anode='FP1', cathode='VEOG_lower',\n",
        "                            ch_name='VEOG', drop_refs=False)\n",
        "raw = set_bipolar_reference(raw, anode='HEOG_right', cathode='HEOG_left',\n",
        "                            ch_name='HEOG', drop_refs=False)\n",
        "raw = raw.set_channel_types({'VEOG': 'eog', 'HEOG': 'eog'})\n",
        "raw = raw.drop_channels(['VEOG_lower', 'HEOG_right', 'HEOG_left'])"
      ]
    },
    {
      "cell_type": "code",
      "execution_count": null,
      "id": "fd5f9690",
      "metadata": {},
      "outputs": [],
      "source": [
        "raw = raw.set_montage('biosemi64', match_case=False)"
      ]
    },
    {
      "cell_type": "markdown",
      "id": "97095201",
      "metadata": {
        "lines_to_next_cell": 0
      },
      "source": [
        "## 1.6 Filter data\n",
        "\n",
        "Filtering is a common preprocessing step that is used to remove parts of the EEG signal that are unlikely to contain brain activity of interest.\n",
        "There are four different types of filters:\n",
        "\n",
        "* A **high-pass filter** removes low-frequency noise (e.g., slow drifts due to sweat or breathing)\n",
        "* A **low-pass filter** removes high-frequency noise (e.g., muscle activity)\n",
        "* A **band-pass filter** combines a high-pass and a low-pass filter in one step\n",
        "* A **band-stop filter** removes a narrow band of frequencies (e.g., 50 Hz line noise)\n",
        "\n",
        "We first apply a high-pass filter at 0.1 Hz to remove slow drifts and plot the filtered data.\n"
      ]
    },
    {
      "cell_type": "code",
      "execution_count": null,
      "id": "8c18a8bf",
      "metadata": {},
      "outputs": [],
      "source": [
        "raw = raw.filter(l_freq=0.1, h_freq=None)\n",
        "_ = raw.plot(start=60.0, duration=5.0)"
      ]
    },
    {
      "cell_type": "markdown",
      "id": "9323ece6",
      "metadata": {
        "lines_to_next_cell": 0
      },
      "source": [
        "\n",
        "Next, we apply a low-pass filter at 30 Hz to remove high-frequency noise and plot the data again.\n",
        "\n",
        "Note that we've performed these two filters separately for demonstration purposes, but we could have also applied a single band-pass filter at 0.1--30 Hz.\n"
      ]
    },
    {
      "cell_type": "code",
      "execution_count": null,
      "id": "ef54306e",
      "metadata": {},
      "outputs": [],
      "source": [
        "raw = raw.filter(l_freq=None, h_freq=30.0)\n",
        "_ = raw.plot(start=60.0, duration=5.0)"
      ]
    },
    {
      "cell_type": "markdown",
      "id": "c58bafdb",
      "metadata": {
        "lines_to_next_cell": 0
      },
      "source": [
        "## 1.7 Correct eye artifacts\n",
        "\n",
        "Eye blinks and eye movements are the most prominent source of artifacts in EEG data.\n",
        "They are approximately 10 times larger than the brain signals we are interested in and affect especially the frontal electrodes.\n",
        "\n",
        "There are multiple ways to remove eye artifacts from EEG data.\n",
        "The most common one is a machine learning technique called **independent component analysis (ICA)**.\n",
        "ICA decomposes the EEG data into a set of independent components, each of which represents a different source of EEG activity.\n",
        "\n",
        "Each component is characterized by a topography (i.e., a spatial pattern of activity across electrodes) and a time course (i.e., a pattern of activity over time).\n",
        "We can then identify those components that we think reflect eye artifacts and remove them from the data.\n",
        "\n",
        "ICA is typically applied on a high-pass filtered copy of the data (cutoff = 1 Hz).\n",
        "We ask the algorithm to identify 15 components and plot their scalp topographies.\n"
      ]
    },
    {
      "cell_type": "code",
      "execution_count": null,
      "id": "32d84fb0",
      "metadata": {},
      "outputs": [],
      "source": [
        "raw_copy = raw.copy().filter(l_freq=1.0, h_freq=None)\n",
        "ica = ICA(n_components=15)\n",
        "ica = ica.fit(raw_copy)\n",
        "_ = ica.plot_components()"
      ]
    },
    {
      "cell_type": "code",
      "execution_count": null,
      "id": "627da8c6",
      "metadata": {},
      "outputs": [],
      "source": [
        "eog_indices, eog_scores = ica.find_bads_eog(raw, ch_name=['HEOG', 'VEOG'],\n",
        "                                            verbose=False)\n",
        "ica.exclude = eog_indices\n",
        "_ = ica.plot_scores(eog_scores)"
      ]
    },
    {
      "cell_type": "code",
      "execution_count": null,
      "id": "56d3fab8",
      "metadata": {},
      "outputs": [],
      "source": [
        "raw = ica.apply(raw)\n",
        "_ = raw.plot(start=60.0, duration=5.0)"
      ]
    },
    {
      "cell_type": "markdown",
      "id": "965079c7",
      "metadata": {
        "lines_to_next_cell": 0
      },
      "source": [
        "## 1.8 Re-reference data\n"
      ]
    },
    {
      "cell_type": "code",
      "execution_count": null,
      "id": "b29f9a62",
      "metadata": {},
      "outputs": [],
      "source": [
        "raw = raw.set_eeg_reference('average')\n",
        "_ = raw.plot(start=60.0, duration=5.0)"
      ]
    }
  ],
  "metadata": {
    "jupytext": {
      "cell_metadata_filter": "-all",
      "main_language": "python",
      "notebook_metadata_filter": "-all"
    }
  },
  "nbformat": 4,
  "nbformat_minor": 5
}