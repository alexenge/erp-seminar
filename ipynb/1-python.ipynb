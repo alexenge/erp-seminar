{
 "cells": [
  {
   "cell_type": "markdown",
   "id": "8e6a2de4",
   "metadata": {
    "lines_to_next_cell": 0
   },
   "source": [
    "# Python\n",
    "\n",
    "In this course, we will us the **[Python](https://www.python.org) programming language**.\n",
    "Python as an open source language that is used in many areas of science and engineering.\n",
    "It is very similar to the [R](https://www.r-project.org) language that you might know from your statistics classes, but slightly more general and more widely used outside of psychology.\n",
    "\n",
    "This first section of the course will provide a very brief introduction into the Python language.\n",
    "\n",
    "```{admonition} Goals\n",
    ":class: note\n",
    "\n",
    "* Using Python as a calculator\n",
    "* Defining variables\n",
    "* Knowing different data types\n",
    "* Running loops\n",
    "* Running functions\n",
    "* Loading modules\n",
    "```\n"
   ]
  },
  {
   "cell_type": "markdown",
   "id": "a758b182",
   "metadata": {
    "lines_to_next_cell": 0
   },
   "source": [
    "## Calculations\n",
    "\n",
    "Like most programming languages, Python can perform basic **arithmetic operations** like addition, subtraction, multiplication, and division.\n"
   ]
  },
  {
   "cell_type": "code",
   "execution_count": null,
   "id": "8ed9009f",
   "metadata": {},
   "outputs": [],
   "source": [
    "3 + 3"
   ]
  },
  {
   "cell_type": "code",
   "execution_count": null,
   "id": "20a371c0",
   "metadata": {},
   "outputs": [],
   "source": [
    "10 / 4"
   ]
  },
  {
   "cell_type": "markdown",
   "id": "62e64856",
   "metadata": {
    "lines_to_next_cell": 0
   },
   "source": [
    "Using the hash sign (``#``), we can add comments to our code to add notes for ourselves or others.\n"
   ]
  },
  {
   "cell_type": "code",
   "execution_count": null,
   "id": "067f2073",
   "metadata": {},
   "outputs": [],
   "source": [
    "# These kind of comments (starting with '#') are ignored by Python"
   ]
  },
  {
   "cell_type": "markdown",
   "id": "37216ab7",
   "metadata": {
    "lines_to_next_cell": 0
   },
   "source": [
    "## Variables\n",
    "\n",
    "**Variables** are used to store values for later use.\n",
    "They are defined by assigning a value (right hand side) to a custom variable name (left hand side), with an equals sign (``=``) in between (not an ``<-``, as in R).\n",
    "We can print the value of a variable by simply typing its name (or, alternatively, by using the ``print()`` function).\n"
   ]
  },
  {
   "cell_type": "code",
   "execution_count": null,
   "id": "a229bcd0",
   "metadata": {},
   "outputs": [],
   "source": [
    "a = 3\n",
    "a"
   ]
  },
  {
   "cell_type": "code",
   "execution_count": null,
   "id": "e48146ef",
   "metadata": {},
   "outputs": [],
   "source": [
    "a = 3\n",
    "b = 4\n",
    "c = a + b\n",
    "c"
   ]
  },
  {
   "cell_type": "markdown",
   "id": "1abf1b06",
   "metadata": {
    "lines_to_next_cell": 0
   },
   "source": [
    "## Data types\n",
    "\n",
    "So far, we have only used single numbers, but Python also supports many other **data types**.\n",
    "An important distinction is between **scalars** (single values, such as a single number) and **iterables** (collections of values, such as a list of numbers).\n"
   ]
  },
  {
   "cell_type": "markdown",
   "id": "099895f0",
   "metadata": {
    "lines_to_next_cell": 0
   },
   "source": [
    "### Scalars\n",
    "\n",
    "An **integer** (``int``) is a whole number (positive or negative).\n"
   ]
  },
  {
   "cell_type": "code",
   "execution_count": null,
   "id": "66193cee",
   "metadata": {},
   "outputs": [],
   "source": [
    "my_var = 3\n",
    "type(my_var)"
   ]
  },
  {
   "cell_type": "markdown",
   "id": "8a95366d",
   "metadata": {
    "lines_to_next_cell": 0
   },
   "source": [
    "A **float** (``float``) is a number with a decimal point.\n"
   ]
  },
  {
   "cell_type": "code",
   "execution_count": null,
   "id": "1631465c",
   "metadata": {},
   "outputs": [],
   "source": [
    "my_var = 3.0\n",
    "type(my_var)"
   ]
  },
  {
   "cell_type": "markdown",
   "id": "f7ae12f2",
   "metadata": {
    "lines_to_next_cell": 0
   },
   "source": [
    "A **string** (``str``) is a sequence of characters (letters, numbers, symbols).\n"
   ]
  },
  {
   "cell_type": "code",
   "execution_count": null,
   "id": "14d3e62c",
   "metadata": {},
   "outputs": [],
   "source": [
    "my_var = 'Hello world'\n",
    "type(my_var)"
   ]
  },
  {
   "cell_type": "markdown",
   "id": "d31b14fd",
   "metadata": {
    "lines_to_next_cell": 0
   },
   "source": [
    "A **Boolean** (``bool``) is one of the two logical values ``True`` or ``False``.\n"
   ]
  },
  {
   "cell_type": "code",
   "execution_count": null,
   "id": "67f973be",
   "metadata": {},
   "outputs": [],
   "source": [
    "my_var = True\n",
    "type(my_var)"
   ]
  },
  {
   "cell_type": "markdown",
   "id": "70bb96a1",
   "metadata": {
    "lines_to_next_cell": 0
   },
   "source": [
    "**``None``** is a special value that represents the absence of a value.\n"
   ]
  },
  {
   "cell_type": "code",
   "execution_count": null,
   "id": "4a90721f",
   "metadata": {},
   "outputs": [],
   "source": [
    "my_var = None\n",
    "type(my_var)"
   ]
  },
  {
   "cell_type": "markdown",
   "id": "34e0faa0",
   "metadata": {
    "lines_to_next_cell": 0
   },
   "source": [
    "### Iterables\n",
    "\n",
    "A **list** (``list``) is a collection of values and is defined by square brackets.\n"
   ]
  },
  {
   "cell_type": "code",
   "execution_count": null,
   "id": "06a31568",
   "metadata": {},
   "outputs": [],
   "source": [
    "my_var = [1, 2, 3]\n",
    "type(my_var)"
   ]
  },
  {
   "cell_type": "markdown",
   "id": "05339a15",
   "metadata": {
    "lines_to_next_cell": 0
   },
   "source": [
    "\n",
    "Elements of a list can be accessed via their index (starting at ``0``, unlike R or MATLAB) in square brackets.\n"
   ]
  },
  {
   "cell_type": "code",
   "execution_count": null,
   "id": "20a7afec",
   "metadata": {},
   "outputs": [],
   "source": [
    "my_var[0]"
   ]
  },
  {
   "cell_type": "markdown",
   "id": "3c6091e9",
   "metadata": {
    "lines_to_next_cell": 0
   },
   "source": [
    "This can also be used to change the value of an element.\n",
    "Note that, as shown here, lists can contain elements of different types (unlike vectors in R).\n"
   ]
  },
  {
   "cell_type": "code",
   "execution_count": null,
   "id": "a43589b6",
   "metadata": {},
   "outputs": [],
   "source": [
    "my_var[2] = 'Hooray!'\n",
    "my_var"
   ]
  },
  {
   "cell_type": "markdown",
   "id": "da64e9cb",
   "metadata": {
    "lines_to_next_cell": 0
   },
   "source": [
    "A **tuple** (``tuple``) works like a list, but cannot be changed after it has been created (it is \"immutable\").\n",
    "It is defined by round brackets.\n"
   ]
  },
  {
   "cell_type": "code",
   "execution_count": null,
   "id": "fadbe748",
   "metadata": {},
   "outputs": [],
   "source": [
    "my_var = (1, 2, 3)\n",
    "type(my_var)"
   ]
  },
  {
   "cell_type": "code",
   "execution_count": null,
   "id": "77c1d0d9",
   "metadata": {
    "lines_to_next_cell": 2
   },
   "outputs": [],
   "source": [
    "my_var[0]"
   ]
  },
  {
   "cell_type": "code",
   "execution_count": null,
   "id": "88ecd6b3",
   "metadata": {
    "tags": [
     "raises-exception"
    ]
   },
   "outputs": [],
   "source": [
    "my_var[2] = 'Hooray!'"
   ]
  },
  {
   "cell_type": "markdown",
   "id": "60a06008",
   "metadata": {
    "lines_to_next_cell": 0
   },
   "source": [
    "A **dictionary** (``dict``) is a collection of key-value pairs and is defined by curly brackets.\n",
    "The keys (usually some kind of labels) can then be used to access the corresponding values (usually some kinds of data).\n"
   ]
  },
  {
   "cell_type": "code",
   "execution_count": null,
   "id": "2d1af78b",
   "metadata": {},
   "outputs": [],
   "source": [
    "my_var = {'Name': 'Berger', 'First_name': 'Hans', 'age': 53, 'married': True}\n",
    "type(my_var)"
   ]
  },
  {
   "cell_type": "code",
   "execution_count": null,
   "id": "a9e454d3",
   "metadata": {},
   "outputs": [],
   "source": [
    "my_var['First_name']"
   ]
  },
  {
   "cell_type": "markdown",
   "id": "f9e0c85f",
   "metadata": {
    "lines_to_next_cell": 0
   },
   "source": [
    "## Loops\n",
    "\n",
    "Loops are used to repeat a certain operation multiple times.\n",
    "The most common type of loop is a **for loop**, which iterates over the elements of an iterable (such as a list).\n"
   ]
  },
  {
   "cell_type": "code",
   "execution_count": null,
   "id": "a934aec6",
   "metadata": {},
   "outputs": [],
   "source": [
    "names = ['Alice', 'Bob', 'Chantoya']\n",
    "for name in names:\n",
    "    print('Hello ' + name)"
   ]
  },
  {
   "cell_type": "markdown",
   "id": "1e620ac6",
   "metadata": {
    "lines_to_next_cell": 0
   },
   "source": [
    "Note that the operations inside the loop need to be indented by exactly four spaces.\n",
    "Python, unlike R, is very strict about indentation.\n",
    "\n",
    "It is often useful to store the results of a loop in a new list.\n"
   ]
  },
  {
   "cell_type": "code",
   "execution_count": null,
   "id": "f1d8ae6d",
   "metadata": {},
   "outputs": [],
   "source": [
    "names = ['Alice', 'Bob', 'Chantoya']\n",
    "greetings = []\n",
    "for name in names:\n",
    "    greetings.append('Hello ' + name)\n",
    "greetings"
   ]
  },
  {
   "cell_type": "markdown",
   "id": "ca0d8fd7",
   "metadata": {
    "lines_to_next_cell": 0
   },
   "source": [
    "## Functions\n",
    "\n",
    "**Functions** are pre-defined operations that can be applied to some input data.\n",
    "Functions are called by writing their name, followed by round brackets containing the input arguments.\n",
    "\n",
    "As an example, the ``sum()`` function calculates the sum of all elements in a list.\n"
   ]
  },
  {
   "cell_type": "code",
   "execution_count": null,
   "id": "c2949339",
   "metadata": {},
   "outputs": [],
   "source": [
    "numbers = [1, 2, 3]\n",
    "sum(numbers)"
   ]
  },
  {
   "cell_type": "markdown",
   "id": "58abb231",
   "metadata": {
    "lines_to_next_cell": 0
   },
   "source": [
    "\n",
    "The ``len()`` function returns the length of an iterable.\n"
   ]
  },
  {
   "cell_type": "code",
   "execution_count": null,
   "id": "466dd437",
   "metadata": {},
   "outputs": [],
   "source": [
    "len(numbers)"
   ]
  },
  {
   "cell_type": "markdown",
   "id": "ac1cde88",
   "metadata": {
    "lines_to_next_cell": 0
   },
   "source": [
    "We can also define our own custom functions like this:\n"
   ]
  },
  {
   "cell_type": "code",
   "execution_count": null,
   "id": "573097d0",
   "metadata": {},
   "outputs": [],
   "source": [
    "\n",
    "\n",
    "def square(x):\n",
    "    \"\"\"Multiplies a number (x) by itself.\"\"\"\n",
    "    return x ** 2\n",
    "\n",
    "\n",
    "square(3)"
   ]
  },
  {
   "cell_type": "markdown",
   "id": "df38bef1",
   "metadata": {
    "lines_to_next_cell": 0
   },
   "source": [
    "The \"docstring\" (in triple quotes) describing the function is optional but good practice.\n",
    "\n",
    "Functions can have multiple input arguments.\n",
    "These can be specified by name (keyword arguments) or by position (positional arguments).\n"
   ]
  },
  {
   "cell_type": "code",
   "execution_count": null,
   "id": "bff4f584",
   "metadata": {},
   "outputs": [],
   "source": [
    "\n",
    "\n",
    "def power(base, exponent):\n",
    "    \"\"\"Exponentiates a number (base) to a given power (exponent).\"\"\"\n",
    "    return base ** exponent\n",
    "\n",
    "\n",
    "power(2, exponent=3)"
   ]
  },
  {
   "cell_type": "markdown",
   "id": "1cc8fdad",
   "metadata": {},
   "source": [
    "Some types of objects come with their own special functions built in (called **methods**).\n",
    "These are called via the object name, followed by a dot, the name of the method, and round brackets (optionally containing additional input arguments)."
   ]
  },
  {
   "cell_type": "code",
   "execution_count": null,
   "id": "170a0f1a",
   "metadata": {},
   "outputs": [],
   "source": [
    "my_string = 'Hello world'\n",
    "my_string.upper()"
   ]
  },
  {
   "cell_type": "markdown",
   "id": "fa519724",
   "metadata": {
    "lines_to_next_cell": 0
   },
   "source": [
    "## Modules\n",
    "\n",
    "Python only comes with a limited set of built-in functions like ``sum()`` and ``len()``.\n",
    "Many additional functions are provided by external **modules** (also called **packages**).\n",
    "\n",
    "To use these, we first need to install them (only once) and then import them (at the beginning of each script).\n",
    "As an example, we will install the ``numpy`` module for working with numerical data.\n"
   ]
  },
  {
   "cell_type": "code",
   "execution_count": null,
   "id": "4ba87da6",
   "metadata": {},
   "outputs": [],
   "source": [
    "# %pip install numpy"
   ]
  },
  {
   "cell_type": "markdown",
   "id": "d0b5d376",
   "metadata": {
    "lines_to_next_cell": 0
   },
   "source": [
    "We can now import the module and use its functions:\n"
   ]
  },
  {
   "cell_type": "code",
   "execution_count": null,
   "id": "f4a53515",
   "metadata": {},
   "outputs": [],
   "source": [
    "import numpy\n",
    "\n",
    "numbers = [1, 2, 3]\n",
    "numpy.mean(numbers)"
   ]
  },
  {
   "cell_type": "markdown",
   "id": "fdd970ea",
   "metadata": {
    "lines_to_next_cell": 0
   },
   "source": [
    "\n",
    "We can also import the module under a custom name (alias) to make it easier to use.\n",
    "This is very common for the ``numpy`` module, which is usually imported as ``np``.\n"
   ]
  },
  {
   "cell_type": "code",
   "execution_count": null,
   "id": "fe894aab",
   "metadata": {},
   "outputs": [],
   "source": [
    "import numpy as np\n",
    "\n",
    "np.mean(numbers)"
   ]
  },
  {
   "cell_type": "markdown",
   "id": "5046547c",
   "metadata": {
    "lines_to_next_cell": 0
   },
   "source": [
    "We can also import only specific functions from a module:\n"
   ]
  },
  {
   "cell_type": "code",
   "execution_count": null,
   "id": "d24d2b3e",
   "metadata": {},
   "outputs": [],
   "source": [
    "from numpy import mean\n",
    "\n",
    "mean(numbers)"
   ]
  },
  {
   "cell_type": "markdown",
   "id": "5b90196f",
   "metadata": {
    "lines_to_next_cell": 0
   },
   "source": [
    "Numpy can also be used to create **arrays**, which are similar to lists but with two important differences:\n",
    "- Arrays can only contain elements of the same type (e.g., only integers)\n",
    "- Arrays can be multi-dimensional (e.g., a 2D matrix with two rows and three columns)\n"
   ]
  },
  {
   "cell_type": "code",
   "execution_count": null,
   "id": "57d33c5d",
   "metadata": {},
   "outputs": [],
   "source": [
    "my_array = np.array([[1, 2, 3], [4, 5, 6]])\n",
    "my_array"
   ]
  },
  {
   "cell_type": "markdown",
   "id": "eea5c8da",
   "metadata": {
    "lines_to_next_cell": 0
   },
   "source": [
    "Numpy arrays come with many useful methods, such as taking the mean across the entire array or across specific dimensions.\n"
   ]
  },
  {
   "cell_type": "code",
   "execution_count": null,
   "id": "e171dfcb",
   "metadata": {},
   "outputs": [],
   "source": [
    "np.mean(my_array)  # Mean of all elements"
   ]
  },
  {
   "cell_type": "code",
   "execution_count": null,
   "id": "c13e75f3",
   "metadata": {},
   "outputs": [],
   "source": [
    "np.mean(my_array, axis=0)  # Means of each column"
   ]
  },
  {
   "cell_type": "code",
   "execution_count": null,
   "id": "de4d0331",
   "metadata": {},
   "outputs": [],
   "source": [
    "np.mean(my_array, axis=1)  # Means of each row"
   ]
  },
  {
   "cell_type": "markdown",
   "id": "2084ec57",
   "metadata": {},
   "source": [
    "## Further reading\n",
    "\n",
    "* Blog post [*R or Python for Psychologists*](https://dominiquemakowski.github.io/post/2020-05-22-r_or_python/) by Dominique Makowski (2020)\n",
    "* Free online course [*Programming with Python*](https://swcarpentry.github.io/python-novice-inflammation/) by Software Carpentry\n"
   ]
  }
 ],
 "metadata": {
  "jupytext": {
   "cell_metadata_filter": "tags,-all",
   "main_language": "python",
   "notebook_metadata_filter": "-all"
  }
 },
 "nbformat": 4,
 "nbformat_minor": 5
}
