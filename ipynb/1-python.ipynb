{
 "cells": [
  {
   "cell_type": "markdown",
   "id": "4b99a20e",
   "metadata": {
    "lines_to_next_cell": 0
   },
   "source": [
    "# Python\n",
    "\n",
    "In this course, we will us the **[Python](https://www.python.org) programming language**.\n",
    "Python as an open source language that is used in many areas of science and engineering.\n",
    "It is very similar to the [R](https://www.r-project.org) language that you might know from your statistics classes, but slightly more general and more widely used outside of psychology.\n",
    "This first section of the course will provide a very brief introduction into the Python language.\n",
    "\n",
    "```{admonition} Learning goals\n",
    ":class: note\n",
    "\n",
    "* Using Python as a calculator\n",
    "* Defining variables\n",
    "* Knowing different data types\n",
    "* Running loops\n",
    "* Running functions\n",
    "* Loading modules\n",
    "```\n"
   ]
  },
  {
   "cell_type": "markdown",
   "id": "227e8263",
   "metadata": {
    "lines_to_next_cell": 0
   },
   "source": [
    "## Calculations\n",
    "\n",
    "Like most programming languages, Python can perform basic **arithmetic operations** like addition, subtraction, multiplication, and division.\n"
   ]
  },
  {
   "cell_type": "code",
   "execution_count": null,
   "id": "14eb7a17",
   "metadata": {},
   "outputs": [],
   "source": [
    "3 + 3"
   ]
  },
  {
   "cell_type": "code",
   "execution_count": null,
   "id": "bb094c5f",
   "metadata": {},
   "outputs": [],
   "source": [
    "10 / 4"
   ]
  },
  {
   "cell_type": "code",
   "execution_count": null,
   "id": "1fd75bec",
   "metadata": {},
   "outputs": [],
   "source": [
    "2 ** 4"
   ]
  },
  {
   "cell_type": "markdown",
   "id": "314af033",
   "metadata": {
    "lines_to_next_cell": 0
   },
   "source": [
    "Using the hash sign (``#``), we can add comments to our code to add notes for ourselves or others.\n"
   ]
  },
  {
   "cell_type": "code",
   "execution_count": null,
   "id": "4601db85",
   "metadata": {},
   "outputs": [],
   "source": [
    "# These kind of comments (starting with '#') are ignored by Python"
   ]
  },
  {
   "cell_type": "markdown",
   "id": "329d5652",
   "metadata": {
    "lines_to_next_cell": 0
   },
   "source": [
    "## Variables\n",
    "\n",
    "**Variables** are used to store values for later use.\n",
    "They are defined by assigning a value (right hand side) to a custom variable name (left hand side), with an equals sign (``=``) in between (not an arrow [``<-``], as in R).\n",
    "We can print the value of a variable by simply typing its name (or, alternatively, by using the ``print()`` function).\n"
   ]
  },
  {
   "cell_type": "code",
   "execution_count": null,
   "id": "72ddba66",
   "metadata": {},
   "outputs": [],
   "source": [
    "a = 3\n",
    "a"
   ]
  },
  {
   "cell_type": "code",
   "execution_count": null,
   "id": "638b04a9",
   "metadata": {},
   "outputs": [],
   "source": [
    "a = 3\n",
    "b = 4\n",
    "c = a + b\n",
    "c"
   ]
  },
  {
   "cell_type": "markdown",
   "id": "22cbe91a",
   "metadata": {
    "lines_to_next_cell": 0
   },
   "source": [
    "## Data types\n",
    "\n",
    "So far, we have only used single numbers, but Python also supports many other **data types**.\n",
    "An important distinction is between **scalars** (single values, such as a single number) and **iterables** (collections of values, such as a list of numbers).\n"
   ]
  },
  {
   "cell_type": "markdown",
   "id": "d044210a",
   "metadata": {
    "lines_to_next_cell": 0
   },
   "source": [
    "### Scalars\n",
    "\n",
    "An **integer** (``int``) is a whole number (positive or negative).\n"
   ]
  },
  {
   "cell_type": "code",
   "execution_count": null,
   "id": "8e7d3f76",
   "metadata": {},
   "outputs": [],
   "source": [
    "my_var = 3\n",
    "type(my_var)"
   ]
  },
  {
   "cell_type": "markdown",
   "id": "17b77ce4",
   "metadata": {
    "lines_to_next_cell": 0
   },
   "source": [
    "A **float** (``float``) is a number with a decimal point.\n"
   ]
  },
  {
   "cell_type": "code",
   "execution_count": null,
   "id": "b0dacf90",
   "metadata": {},
   "outputs": [],
   "source": [
    "my_var = 3.0\n",
    "type(my_var)"
   ]
  },
  {
   "cell_type": "markdown",
   "id": "49de23b6",
   "metadata": {
    "lines_to_next_cell": 0
   },
   "source": [
    "A **string** (``str``) is a sequence of characters (letters, numbers, symbols).\n"
   ]
  },
  {
   "cell_type": "code",
   "execution_count": null,
   "id": "917f24fd",
   "metadata": {},
   "outputs": [],
   "source": [
    "my_var = 'Hello world'\n",
    "type(my_var)"
   ]
  },
  {
   "cell_type": "markdown",
   "id": "65316847",
   "metadata": {
    "lines_to_next_cell": 0
   },
   "source": [
    "A **Boolean** (``bool``) is one of the two logical values ``True`` or ``False``.\n"
   ]
  },
  {
   "cell_type": "code",
   "execution_count": null,
   "id": "2c72d0b7",
   "metadata": {},
   "outputs": [],
   "source": [
    "my_var = True\n",
    "type(my_var)"
   ]
  },
  {
   "cell_type": "markdown",
   "id": "c8e6e968",
   "metadata": {
    "lines_to_next_cell": 0
   },
   "source": [
    "**``None``** is a special value that represents the absence of a value.\n"
   ]
  },
  {
   "cell_type": "code",
   "execution_count": null,
   "id": "d49bb7a8",
   "metadata": {},
   "outputs": [],
   "source": [
    "my_var = None\n",
    "type(my_var)"
   ]
  },
  {
   "cell_type": "markdown",
   "id": "a3659ba6",
   "metadata": {
    "lines_to_next_cell": 0
   },
   "source": [
    "### Iterables\n",
    "\n",
    "A **list** (``list``) is a collection of values and is defined by square brackets.\n"
   ]
  },
  {
   "cell_type": "code",
   "execution_count": null,
   "id": "8ae2c2d3",
   "metadata": {},
   "outputs": [],
   "source": [
    "my_var = [1, 2, 3]\n",
    "type(my_var)"
   ]
  },
  {
   "cell_type": "markdown",
   "id": "a7f30162",
   "metadata": {
    "lines_to_next_cell": 0
   },
   "source": [
    "\n",
    "Elements of a list can be accessed via their index (starting at ``0``, unlike R or MATLAB) in square brackets.\n"
   ]
  },
  {
   "cell_type": "code",
   "execution_count": null,
   "id": "87111fb9",
   "metadata": {},
   "outputs": [],
   "source": [
    "my_var[1]"
   ]
  },
  {
   "cell_type": "markdown",
   "id": "b2c7225b",
   "metadata": {
    "lines_to_next_cell": 0
   },
   "source": [
    "This can also be used to change the value of an element.\n",
    "Note that, as shown here, lists can contain elements of different types (unlike vectors in R).\n"
   ]
  },
  {
   "cell_type": "code",
   "execution_count": null,
   "id": "b937813f",
   "metadata": {},
   "outputs": [],
   "source": [
    "my_var[2] = 'Hooray!'\n",
    "my_var"
   ]
  },
  {
   "cell_type": "markdown",
   "id": "22a82121",
   "metadata": {
    "lines_to_next_cell": 0
   },
   "source": [
    "A **tuple** (``tuple``) works like a list, but cannot be changed after it has been created (it is \"immutable\").\n",
    "It is defined by round brackets.\n"
   ]
  },
  {
   "cell_type": "code",
   "execution_count": null,
   "id": "fa23d01f",
   "metadata": {},
   "outputs": [],
   "source": [
    "my_var = (1, 2, 3)\n",
    "type(my_var)"
   ]
  },
  {
   "cell_type": "code",
   "execution_count": null,
   "id": "d0628b8b",
   "metadata": {
    "lines_to_next_cell": 2
   },
   "outputs": [],
   "source": [
    "my_var[1]"
   ]
  },
  {
   "cell_type": "code",
   "execution_count": null,
   "id": "c2f12b68",
   "metadata": {
    "tags": [
     "raises-exception"
    ]
   },
   "outputs": [],
   "source": [
    "my_var[2] = 'Hooray!'"
   ]
  },
  {
   "cell_type": "markdown",
   "id": "f4750e99",
   "metadata": {
    "lines_to_next_cell": 0
   },
   "source": [
    "A **dictionary** (``dict``) is a collection of key-value pairs and is defined by curly brackets.\n",
    "The keys (usually some kind of labels) can then be used to access the corresponding values (usually some kinds of data).\n"
   ]
  },
  {
   "cell_type": "code",
   "execution_count": null,
   "id": "b30c97b2",
   "metadata": {},
   "outputs": [],
   "source": [
    "my_var = {'Name': 'Berger', 'First_name': 'Hans', 'age': 53, 'married': True}\n",
    "type(my_var)"
   ]
  },
  {
   "cell_type": "code",
   "execution_count": null,
   "id": "dd3b2adc",
   "metadata": {},
   "outputs": [],
   "source": [
    "my_var['First_name']"
   ]
  },
  {
   "cell_type": "markdown",
   "id": "6c093cd9",
   "metadata": {
    "lines_to_next_cell": 0
   },
   "source": [
    "## Loops\n",
    "\n",
    "Loops are used to repeat a certain operation multiple times.\n",
    "The most common type of loop is a **for loop**, which iterates over the elements of an iterable (such as a list).\n"
   ]
  },
  {
   "cell_type": "code",
   "execution_count": null,
   "id": "0698d118",
   "metadata": {},
   "outputs": [],
   "source": [
    "names = ['Alice', 'Bob', 'Chantoya']\n",
    "for name in names:\n",
    "    print('Hello ' + name)"
   ]
  },
  {
   "cell_type": "markdown",
   "id": "e72d05be",
   "metadata": {
    "lines_to_next_cell": 0
   },
   "source": [
    "Note that the operations inside the loop need to be indented by exactly four spaces.\n",
    "Python, unlike R, is very strict about indentation.\n",
    "\n",
    "It is often useful to store the results of a loop in a new list.\n"
   ]
  },
  {
   "cell_type": "code",
   "execution_count": null,
   "id": "bc833b79",
   "metadata": {},
   "outputs": [],
   "source": [
    "names = ['Alice', 'Bob', 'Chantoya']\n",
    "greetings = []\n",
    "for name in names:\n",
    "    greetings.append('Hello ' + name)\n",
    "greetings"
   ]
  },
  {
   "cell_type": "markdown",
   "id": "5941e9ce",
   "metadata": {
    "lines_to_next_cell": 0
   },
   "source": [
    "## Functions\n",
    "\n",
    "**Functions** are pre-defined operations that can be applied to some input data.\n",
    "Functions are called by writing their name, followed by round brackets containing the input arguments.\n",
    "\n",
    "As an example, the ``sum()`` function calculates the sum of all elements in a list.\n"
   ]
  },
  {
   "cell_type": "code",
   "execution_count": null,
   "id": "729aa8e4",
   "metadata": {},
   "outputs": [],
   "source": [
    "numbers = [1, 2, 3]\n",
    "sum(numbers)"
   ]
  },
  {
   "cell_type": "markdown",
   "id": "59fbdae3",
   "metadata": {
    "lines_to_next_cell": 0
   },
   "source": [
    "\n",
    "The ``len()`` function returns the length of an iterable.\n"
   ]
  },
  {
   "cell_type": "code",
   "execution_count": null,
   "id": "8740398f",
   "metadata": {},
   "outputs": [],
   "source": [
    "len(numbers)"
   ]
  },
  {
   "cell_type": "markdown",
   "id": "147de039",
   "metadata": {},
   "source": [
    "Some types of objects come with their own special functions built in (called **methods**).\n",
    "These are called via the object name, followed by a dot, the name of the method, and round brackets (optionally containing additional input arguments)."
   ]
  },
  {
   "cell_type": "code",
   "execution_count": null,
   "id": "df2c7f34",
   "metadata": {},
   "outputs": [],
   "source": [
    "my_string = 'Hello world'\n",
    "my_string.upper()"
   ]
  },
  {
   "cell_type": "markdown",
   "id": "3dc107a9",
   "metadata": {
    "lines_to_next_cell": 0
   },
   "source": [
    "We can also define our own custom functions like this:\n"
   ]
  },
  {
   "cell_type": "code",
   "execution_count": null,
   "id": "7f829995",
   "metadata": {},
   "outputs": [],
   "source": [
    "\n",
    "\n",
    "def square(x):\n",
    "    \"\"\"Multiplies a number (x) by itself.\"\"\"\n",
    "    return x ** 2\n",
    "\n",
    "\n",
    "square(3)"
   ]
  },
  {
   "cell_type": "markdown",
   "id": "be061249",
   "metadata": {
    "lines_to_next_cell": 0
   },
   "source": [
    "The \"docstring\" (in triple quotes) describing the function is optional but good practice.\n",
    "\n",
    "Functions can have multiple input arguments.\n",
    "These can be specified by name (keyword arguments) or by position (positional arguments).\n"
   ]
  },
  {
   "cell_type": "code",
   "execution_count": null,
   "id": "ae1cfcbe",
   "metadata": {},
   "outputs": [],
   "source": [
    "\n",
    "\n",
    "def power(base, exponent):\n",
    "    \"\"\"Exponentiates a number (base) to a given power (exponent).\"\"\"\n",
    "    return base ** exponent\n",
    "\n",
    "\n",
    "power(2, exponent=3)"
   ]
  },
  {
   "cell_type": "markdown",
   "id": "6f33b95c",
   "metadata": {
    "lines_to_next_cell": 0
   },
   "source": [
    "## Modules\n",
    "\n",
    "Python only comes with a limited set of built-in functions like ``sum()`` and ``len()``.\n",
    "Many additional functions are provided by external **modules** (also called **packages**).\n",
    "\n",
    "To use these, we first need to install them (only once) and then import them (at the beginning of each script).\n",
    "As an example, we will install the ``numpy`` module for working with numerical data.\n"
   ]
  },
  {
   "cell_type": "code",
   "execution_count": null,
   "id": "fd3ea1a3",
   "metadata": {},
   "outputs": [],
   "source": [
    "# %pip install numpy"
   ]
  },
  {
   "cell_type": "markdown",
   "id": "5f657988",
   "metadata": {
    "lines_to_next_cell": 0
   },
   "source": [
    "We can now import the module and use its functions:\n"
   ]
  },
  {
   "cell_type": "code",
   "execution_count": null,
   "id": "443650f5",
   "metadata": {},
   "outputs": [],
   "source": [
    "import numpy\n",
    "\n",
    "numbers = [1, 2, 3]\n",
    "numpy.mean(numbers)"
   ]
  },
  {
   "cell_type": "markdown",
   "id": "2a9d9d14",
   "metadata": {
    "lines_to_next_cell": 0
   },
   "source": [
    "\n",
    "We can also import the module under a custom name (alias) to make it easier to use.\n",
    "This is very common for the ``numpy`` module, which is usually imported as ``np``.\n"
   ]
  },
  {
   "cell_type": "code",
   "execution_count": null,
   "id": "78e48b44",
   "metadata": {},
   "outputs": [],
   "source": [
    "import numpy as np\n",
    "\n",
    "np.mean(numbers)"
   ]
  },
  {
   "cell_type": "markdown",
   "id": "e351ec89",
   "metadata": {
    "lines_to_next_cell": 0
   },
   "source": [
    "We can also import only specific functions from a module:\n"
   ]
  },
  {
   "cell_type": "code",
   "execution_count": null,
   "id": "c81a4a73",
   "metadata": {},
   "outputs": [],
   "source": [
    "from numpy import mean\n",
    "\n",
    "mean(numbers)"
   ]
  },
  {
   "cell_type": "markdown",
   "id": "c8dca246",
   "metadata": {
    "lines_to_next_cell": 0
   },
   "source": [
    "Numpy can also be used to create **arrays**, which are similar to lists but with two important differences:\n",
    "- Arrays can only contain elements of the same type (e.g., only floats)\n",
    "- Arrays can be multi-dimensional (e.g., a 2D matrix with two rows and three columns)\n"
   ]
  },
  {
   "cell_type": "code",
   "execution_count": null,
   "id": "9ada7e7d",
   "metadata": {},
   "outputs": [],
   "source": [
    "my_array = np.array([[1, 2, 3], [4, 5, 6]])\n",
    "my_array"
   ]
  },
  {
   "cell_type": "markdown",
   "id": "a2591af2",
   "metadata": {
    "lines_to_next_cell": 0
   },
   "source": [
    "Numpy arrays come with many useful methods, such as taking the mean across the entire array or across specific dimensions.\n"
   ]
  },
  {
   "cell_type": "code",
   "execution_count": null,
   "id": "5cb9df8d",
   "metadata": {},
   "outputs": [],
   "source": [
    "np.mean(my_array)"
   ]
  },
  {
   "cell_type": "code",
   "execution_count": null,
   "id": "8ffb8e76",
   "metadata": {},
   "outputs": [],
   "source": [
    "np.mean(my_array, axis=0)"
   ]
  },
  {
   "cell_type": "code",
   "execution_count": null,
   "id": "9df177d7",
   "metadata": {},
   "outputs": [],
   "source": [
    "np.mean(my_array, axis=1)"
   ]
  },
  {
   "cell_type": "markdown",
   "id": "391159dc",
   "metadata": {},
   "source": [
    "## Further reading\n",
    "\n",
    "* Blog post [*R or Python for Psychologists*](https://dominiquemakowski.github.io/post/2020-05-22-r_or_python/) by Dominique Makowski (2020)\n",
    "* Free online course [*Programming with Python*](https://swcarpentry.github.io/python-novice-inflammation/) by Software Carpentry\n"
   ]
  }
 ],
 "metadata": {
  "jupytext": {
   "cell_metadata_filter": "tags,-all",
   "main_language": "python",
   "notebook_metadata_filter": "-all"
  }
 },
 "nbformat": 4,
 "nbformat_minor": 5
}
