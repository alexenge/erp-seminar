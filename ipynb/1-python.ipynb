{
 "cells": [
  {
   "cell_type": "markdown",
   "id": "c1ab7340",
   "metadata": {
    "lines_to_next_cell": 0
   },
   "source": [
    "# Python\n",
    "\n",
    "In this course, we will us the **[Python](https://www.python.org) programming language**.\n",
    "Python as an open source language that is used in many areas of science and engineering.\n",
    "It is very similar to the [R](https://www.r-project.org) language that you might know from your statistics classes, but slightly more general and more widely used outside of psychology.\n",
    "\n",
    "This first section of the course will provide a very brief introduction into the Python language.\n",
    "\n",
    "```{admonition} Learning goals\n",
    ":class: note\n",
    "\n",
    "* Using Python as a calculator\n",
    "* Defining variables\n",
    "* Knowing different data types\n",
    "* Running loops\n",
    "* Running functions\n",
    "* Loading modules\n",
    "```\n"
   ]
  },
  {
   "cell_type": "markdown",
   "id": "ae1cd5b8",
   "metadata": {
    "lines_to_next_cell": 0
   },
   "source": [
    "## Calculations\n",
    "\n",
    "Like most programming languages, Python can perform basic **arithmetic operations** like addition, subtraction, multiplication, and division.\n"
   ]
  },
  {
   "cell_type": "code",
   "execution_count": null,
   "id": "de65627a",
   "metadata": {},
   "outputs": [],
   "source": [
    "3 + 3"
   ]
  },
  {
   "cell_type": "code",
   "execution_count": null,
   "id": "eb17c706",
   "metadata": {},
   "outputs": [],
   "source": [
    "10 / 4"
   ]
  },
  {
   "cell_type": "markdown",
   "id": "2f7fbcd9",
   "metadata": {
    "lines_to_next_cell": 0
   },
   "source": [
    "Using the hash sign (``#``), we can add comments to our code to add notes for ourselves or others.\n"
   ]
  },
  {
   "cell_type": "code",
   "execution_count": null,
   "id": "2cfce36b",
   "metadata": {},
   "outputs": [],
   "source": [
    "# These kind of comments (starting with '#') are ignored by Python"
   ]
  },
  {
   "cell_type": "markdown",
   "id": "401993aa",
   "metadata": {
    "lines_to_next_cell": 0
   },
   "source": [
    "## Variables\n",
    "\n",
    "**Variables** are used to store values for later use.\n",
    "They are defined by assigning a value (right hand side) to a custom variable name (left hand side), with an equals sign (``=``) in between (not an ``<-``, as in R).\n",
    "We can print the value of a variable by simply typing its name (or, alternatively, by using the ``print()`` function).\n"
   ]
  },
  {
   "cell_type": "code",
   "execution_count": null,
   "id": "ab837e4b",
   "metadata": {},
   "outputs": [],
   "source": [
    "a = 3\n",
    "a"
   ]
  },
  {
   "cell_type": "code",
   "execution_count": null,
   "id": "b84ad1da",
   "metadata": {},
   "outputs": [],
   "source": [
    "a = 3\n",
    "b = 4\n",
    "c = a + b\n",
    "c"
   ]
  },
  {
   "cell_type": "markdown",
   "id": "b171441b",
   "metadata": {
    "lines_to_next_cell": 0
   },
   "source": [
    "## Data types\n",
    "\n",
    "So far, we have only used single numbers, but Python also supports many other **data types**.\n",
    "An important distinction is between **scalars** (single values, such as a single number) and **iterables** (collections of values, such as a list of numbers).\n"
   ]
  },
  {
   "cell_type": "markdown",
   "id": "c4396e7d",
   "metadata": {
    "lines_to_next_cell": 0
   },
   "source": [
    "### Scalars\n",
    "\n",
    "An **integer** (``int``) is a whole number (positive or negative).\n"
   ]
  },
  {
   "cell_type": "code",
   "execution_count": null,
   "id": "002ad550",
   "metadata": {},
   "outputs": [],
   "source": [
    "my_var = 3\n",
    "type(my_var)"
   ]
  },
  {
   "cell_type": "markdown",
   "id": "b2e1d7a7",
   "metadata": {
    "lines_to_next_cell": 0
   },
   "source": [
    "A **float** (``float``) is a number with a decimal point.\n"
   ]
  },
  {
   "cell_type": "code",
   "execution_count": null,
   "id": "faa0082b",
   "metadata": {},
   "outputs": [],
   "source": [
    "my_var = 3.0\n",
    "type(my_var)"
   ]
  },
  {
   "cell_type": "markdown",
   "id": "c3e44e4f",
   "metadata": {
    "lines_to_next_cell": 0
   },
   "source": [
    "A **string** (``str``) is a sequence of characters (letters, numbers, symbols).\n"
   ]
  },
  {
   "cell_type": "code",
   "execution_count": null,
   "id": "4abf626e",
   "metadata": {},
   "outputs": [],
   "source": [
    "my_var = 'Hello world'\n",
    "type(my_var)"
   ]
  },
  {
   "cell_type": "markdown",
   "id": "976b0ce9",
   "metadata": {
    "lines_to_next_cell": 0
   },
   "source": [
    "A **Boolean** (``bool``) is one of the two logical values ``True`` or ``False``.\n"
   ]
  },
  {
   "cell_type": "code",
   "execution_count": null,
   "id": "30fe7b9a",
   "metadata": {},
   "outputs": [],
   "source": [
    "my_var = True\n",
    "type(my_var)"
   ]
  },
  {
   "cell_type": "markdown",
   "id": "23e39d1b",
   "metadata": {
    "lines_to_next_cell": 0
   },
   "source": [
    "**``None``** is a special value that represents the absence of a value.\n"
   ]
  },
  {
   "cell_type": "code",
   "execution_count": null,
   "id": "811657c3",
   "metadata": {},
   "outputs": [],
   "source": [
    "my_var = None\n",
    "type(my_var)"
   ]
  },
  {
   "cell_type": "markdown",
   "id": "3bb81f3e",
   "metadata": {
    "lines_to_next_cell": 0
   },
   "source": [
    "### Iterables\n",
    "\n",
    "A **list** (``list``) is a collection of values and is defined by square brackets.\n"
   ]
  },
  {
   "cell_type": "code",
   "execution_count": null,
   "id": "240b95d7",
   "metadata": {},
   "outputs": [],
   "source": [
    "my_var = [1, 2, 3]\n",
    "type(my_var)"
   ]
  },
  {
   "cell_type": "markdown",
   "id": "0a1d6a91",
   "metadata": {
    "lines_to_next_cell": 0
   },
   "source": [
    "\n",
    "Elements of a list can be accessed via their index (starting at ``0``, unlike R or MATLAB) in square brackets.\n"
   ]
  },
  {
   "cell_type": "code",
   "execution_count": null,
   "id": "f5a01a84",
   "metadata": {},
   "outputs": [],
   "source": [
    "my_var[0]"
   ]
  },
  {
   "cell_type": "markdown",
   "id": "21204aad",
   "metadata": {
    "lines_to_next_cell": 0
   },
   "source": [
    "This can also be used to change the value of an element.\n",
    "Note that, as shown here, lists can contain elements of different types (unlike vectors in R).\n"
   ]
  },
  {
   "cell_type": "code",
   "execution_count": null,
   "id": "b7e4e045",
   "metadata": {},
   "outputs": [],
   "source": [
    "my_var[2] = 'Hooray!'\n",
    "my_var"
   ]
  },
  {
   "cell_type": "markdown",
   "id": "5b7a759e",
   "metadata": {
    "lines_to_next_cell": 0
   },
   "source": [
    "A **tuple** (``tuple``) works like a list, but cannot be changed after it has been created (it is \"immutable\").\n",
    "It is defined by round brackets.\n"
   ]
  },
  {
   "cell_type": "code",
   "execution_count": null,
   "id": "cdb6bf4e",
   "metadata": {},
   "outputs": [],
   "source": [
    "my_var = (1, 2, 3)\n",
    "type(my_var)"
   ]
  },
  {
   "cell_type": "code",
   "execution_count": null,
   "id": "ea8f37f2",
   "metadata": {
    "lines_to_next_cell": 2
   },
   "outputs": [],
   "source": [
    "my_var[0]"
   ]
  },
  {
   "cell_type": "code",
   "execution_count": null,
   "id": "092a4cc1",
   "metadata": {
    "tags": [
     "raises-exception"
    ]
   },
   "outputs": [],
   "source": [
    "my_var[2] = 'Hooray!'"
   ]
  },
  {
   "cell_type": "markdown",
   "id": "d83cb936",
   "metadata": {
    "lines_to_next_cell": 0
   },
   "source": [
    "A **dictionary** (``dict``) is a collection of key-value pairs and is defined by curly brackets.\n",
    "The keys (usually some kind of labels) can then be used to access the corresponding values (usually some kinds of data).\n"
   ]
  },
  {
   "cell_type": "code",
   "execution_count": null,
   "id": "b9258e56",
   "metadata": {},
   "outputs": [],
   "source": [
    "my_var = {'Name': 'Berger', 'First_name': 'Hans', 'age': 53, 'married': True}\n",
    "type(my_var)"
   ]
  },
  {
   "cell_type": "code",
   "execution_count": null,
   "id": "86bd86a5",
   "metadata": {},
   "outputs": [],
   "source": [
    "my_var['First_name']"
   ]
  },
  {
   "cell_type": "markdown",
   "id": "1edd2aa8",
   "metadata": {
    "lines_to_next_cell": 0
   },
   "source": [
    "## Loops\n",
    "\n",
    "Loops are used to repeat a certain operation multiple times.\n",
    "The most common type of loop is a **for loop**, which iterates over the elements of an iterable (such as a list).\n"
   ]
  },
  {
   "cell_type": "code",
   "execution_count": null,
   "id": "a6e9145a",
   "metadata": {},
   "outputs": [],
   "source": [
    "names = ['Alice', 'Bob', 'Chantoya']\n",
    "for name in names:\n",
    "    print('Hello ' + name)"
   ]
  },
  {
   "cell_type": "markdown",
   "id": "d1890f12",
   "metadata": {
    "lines_to_next_cell": 0
   },
   "source": [
    "Note that the operations inside the loop need to be indented by exactly four spaces.\n",
    "Python, unlike R, is very strict about indentation.\n",
    "\n",
    "It is often useful to store the results of a loop in a new list.\n"
   ]
  },
  {
   "cell_type": "code",
   "execution_count": null,
   "id": "08124c08",
   "metadata": {},
   "outputs": [],
   "source": [
    "names = ['Alice', 'Bob', 'Chantoya']\n",
    "greetings = []\n",
    "for name in names:\n",
    "    greetings.append('Hello ' + name)\n",
    "greetings"
   ]
  },
  {
   "cell_type": "markdown",
   "id": "05a7f1a9",
   "metadata": {
    "lines_to_next_cell": 0
   },
   "source": [
    "## Functions\n",
    "\n",
    "**Functions** are pre-defined operations that can be applied to some input data.\n",
    "Functions are called by writing their name, followed by round brackets containing the input arguments.\n",
    "\n",
    "As an example, the ``sum()`` function calculates the sum of all elements in a list.\n"
   ]
  },
  {
   "cell_type": "code",
   "execution_count": null,
   "id": "2a8b6d4d",
   "metadata": {},
   "outputs": [],
   "source": [
    "numbers = [1, 2, 3]\n",
    "sum(numbers)"
   ]
  },
  {
   "cell_type": "markdown",
   "id": "c07d25bc",
   "metadata": {
    "lines_to_next_cell": 0
   },
   "source": [
    "\n",
    "The ``len()`` function returns the length of an iterable.\n"
   ]
  },
  {
   "cell_type": "code",
   "execution_count": null,
   "id": "f0b5d753",
   "metadata": {},
   "outputs": [],
   "source": [
    "len(numbers)"
   ]
  },
  {
   "cell_type": "markdown",
   "id": "aa43e3ce",
   "metadata": {
    "lines_to_next_cell": 0
   },
   "source": [
    "We can also define our own custom functions like this:\n"
   ]
  },
  {
   "cell_type": "code",
   "execution_count": null,
   "id": "cb4bf500",
   "metadata": {},
   "outputs": [],
   "source": [
    "\n",
    "\n",
    "def square(x):\n",
    "    \"\"\"Multiplies a number (x) by itself.\"\"\"\n",
    "    return x ** 2\n",
    "\n",
    "\n",
    "square(3)"
   ]
  },
  {
   "cell_type": "markdown",
   "id": "b6940bc9",
   "metadata": {
    "lines_to_next_cell": 0
   },
   "source": [
    "The \"docstring\" (in triple quotes) describing the function is optional but good practice.\n",
    "\n",
    "Functions can have multiple input arguments.\n",
    "These can be specified by name (keyword arguments) or by position (positional arguments).\n"
   ]
  },
  {
   "cell_type": "code",
   "execution_count": null,
   "id": "0de96499",
   "metadata": {},
   "outputs": [],
   "source": [
    "\n",
    "\n",
    "def power(base, exponent):\n",
    "    \"\"\"Exponentiates a number (base) to a given power (exponent).\"\"\"\n",
    "    return base ** exponent\n",
    "\n",
    "\n",
    "power(2, exponent=3)"
   ]
  },
  {
   "cell_type": "markdown",
   "id": "ffacc757",
   "metadata": {},
   "source": [
    "Some types of objects come with their own special functions built in (called **methods**).\n",
    "These are called via the object name, followed by a dot, the name of the method, and round brackets (optionally containing additional input arguments)."
   ]
  },
  {
   "cell_type": "code",
   "execution_count": null,
   "id": "77aa47bd",
   "metadata": {},
   "outputs": [],
   "source": [
    "my_string = 'Hello world'\n",
    "my_string.upper()"
   ]
  },
  {
   "cell_type": "markdown",
   "id": "18be0de8",
   "metadata": {
    "lines_to_next_cell": 0
   },
   "source": [
    "## Modules\n",
    "\n",
    "Python only comes with a limited set of built-in functions like ``sum()`` and ``len()``.\n",
    "Many additional functions are provided by external **modules** (also called **packages**).\n",
    "\n",
    "To use these, we first need to install them (only once) and then import them (at the beginning of each script).\n",
    "As an example, we will install the ``numpy`` module for working with numerical data.\n"
   ]
  },
  {
   "cell_type": "code",
   "execution_count": null,
   "id": "7ae23035",
   "metadata": {},
   "outputs": [],
   "source": [
    "# %pip install numpy"
   ]
  },
  {
   "cell_type": "markdown",
   "id": "5b256234",
   "metadata": {
    "lines_to_next_cell": 0
   },
   "source": [
    "We can now import the module and use its functions:\n"
   ]
  },
  {
   "cell_type": "code",
   "execution_count": null,
   "id": "4e491006",
   "metadata": {},
   "outputs": [],
   "source": [
    "import numpy\n",
    "\n",
    "numbers = [1, 2, 3]\n",
    "numpy.mean(numbers)"
   ]
  },
  {
   "cell_type": "markdown",
   "id": "01fc7e54",
   "metadata": {
    "lines_to_next_cell": 0
   },
   "source": [
    "\n",
    "We can also import the module under a custom name (alias) to make it easier to use.\n",
    "This is very common for the ``numpy`` module, which is usually imported as ``np``.\n"
   ]
  },
  {
   "cell_type": "code",
   "execution_count": null,
   "id": "b866a1ba",
   "metadata": {},
   "outputs": [],
   "source": [
    "import numpy as np\n",
    "\n",
    "np.mean(numbers)"
   ]
  },
  {
   "cell_type": "markdown",
   "id": "b9d1a39a",
   "metadata": {
    "lines_to_next_cell": 0
   },
   "source": [
    "We can also import only specific functions from a module:\n"
   ]
  },
  {
   "cell_type": "code",
   "execution_count": null,
   "id": "854f9b57",
   "metadata": {},
   "outputs": [],
   "source": [
    "from numpy import mean\n",
    "\n",
    "mean(numbers)"
   ]
  },
  {
   "cell_type": "markdown",
   "id": "fab34bef",
   "metadata": {
    "lines_to_next_cell": 0
   },
   "source": [
    "Numpy can also be used to create **arrays**, which are similar to lists but with two important differences:\n",
    "- Arrays can only contain elements of the same type (e.g., only floats)\n",
    "- Arrays can be multi-dimensional (e.g., a 2D matrix with two rows and three columns)\n"
   ]
  },
  {
   "cell_type": "code",
   "execution_count": null,
   "id": "30efa600",
   "metadata": {},
   "outputs": [],
   "source": [
    "my_array = np.array([[1, 2, 3], [4, 5, 6]])\n",
    "my_array"
   ]
  },
  {
   "cell_type": "markdown",
   "id": "892338ec",
   "metadata": {
    "lines_to_next_cell": 0
   },
   "source": [
    "Numpy arrays come with many useful methods, such as taking the mean across the entire array or across specific dimensions.\n"
   ]
  },
  {
   "cell_type": "code",
   "execution_count": null,
   "id": "b007ce79",
   "metadata": {},
   "outputs": [],
   "source": [
    "np.mean(my_array)  # Mean of all elements"
   ]
  },
  {
   "cell_type": "code",
   "execution_count": null,
   "id": "88af81c2",
   "metadata": {},
   "outputs": [],
   "source": [
    "np.mean(my_array, axis=0)  # Means of each column"
   ]
  },
  {
   "cell_type": "code",
   "execution_count": null,
   "id": "2f715eb5",
   "metadata": {},
   "outputs": [],
   "source": [
    "np.mean(my_array, axis=1)  # Means of each row"
   ]
  },
  {
   "cell_type": "markdown",
   "id": "e610cd26",
   "metadata": {},
   "source": [
    "## Further reading\n",
    "\n",
    "* Blog post [*R or Python for Psychologists*](https://dominiquemakowski.github.io/post/2020-05-22-r_or_python/) by Dominique Makowski (2020)\n",
    "* Free online course [*Programming with Python*](https://swcarpentry.github.io/python-novice-inflammation/) by Software Carpentry\n"
   ]
  }
 ],
 "metadata": {
  "jupytext": {
   "cell_metadata_filter": "tags,-all",
   "main_language": "python",
   "notebook_metadata_filter": "-all"
  }
 },
 "nbformat": 4,
 "nbformat_minor": 5
}
