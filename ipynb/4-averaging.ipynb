{
 "cells": [
  {
   "cell_type": "markdown",
   "id": "ab65cc2c",
   "metadata": {
    "lines_to_next_cell": 0
   },
   "source": [
    "# Averaging\n",
    "\n",
    "The EEG is a very noisy signal.\n",
    "Therefore, if we are interest in the brain's response to a certain event (e.g., seeing a face versus a car), we need to average the EEG response over many trials (repetitions) of that event (i.e., over many different face trials and many different car trials).\n",
    "With this **averaging** procedure, unsystematic noise will get canceled out, while the systematic brain response will remain.\n",
    "\n",
    "Averaging is performed separately for each EEG channel and timepoint, reducing the dimensionality of the data from trials × channels × timepoints (epochs) to channels × timepoints (average).\n",
    "\n",
    ":::{figure-md}\n",
    "<img src=\"https://files.mtstatic.com/site_7339/94057/0?Expires=1700853581&Signature=UeBaEMEJOBCxd9GX-iXbaSsW6XPM4iX2uABmaWUjOB1~qIaRQf-m4158~2wbQeVqmaaLPnX6o04fkunrzmP88Gr-zGgPhrMBes0MEkLXLy7B43XgdPwUPpO3tUVhOjvHrAuQthoD9lv9b2IYJNsFZ1hcLWeW4ZsezFs7~iSTMFM_&Key-Pair-Id=APKAJ5Y6AV4GI7A555NA\" alt=\"Continuous, epoched, and averaged EEG\" width=500>\n",
    "\n",
    "Continuous, epoched, and averaged EEG.\n",
    "Source: {cite:t}`luck2022a`\n",
    ":::\n",
    "\n",
    "In \"traditional\" ERP analysis, these averages (separately for each participant and condition) are also used for statistical testing (using $t$-tests or ANOVAs), but modern approaches (e.g., linear mixed models) are typically performed on the single trials data (before averaging).\n",
    "Averaging remains useful for visualization purposes.\n",
    "\n",
    "```{admonition} Goals\n",
    ":class: note\n",
    "\n",
    "* Creating an averaged ERP (\"evoked\")\n",
    "* Plotting evokeds as time courses and topographies\n",
    "```\n"
   ]
  },
  {
   "cell_type": "markdown",
   "id": "a2d721a4",
   "metadata": {
    "lines_to_next_cell": 0
   },
   "source": [
    "## Load Python packages\n",
    "\n",
    "As always, all the functions we'll need are provided by the [MNE-Python](https://mne.tools/stable/index.html) package {cite:p}`gramfort2013`.\n"
   ]
  },
  {
   "cell_type": "code",
   "execution_count": null,
   "id": "32cd1edf",
   "metadata": {},
   "outputs": [],
   "source": [
    "# %pip install mne hu-neuro-pipeline"
   ]
  },
  {
   "cell_type": "code",
   "execution_count": null,
   "id": "6a039fc4",
   "metadata": {},
   "outputs": [],
   "source": [
    "import pandas as pd\n",
    "from mne import Epochs, combine_evoked, merge_events, set_bipolar_reference\n",
    "from mne.io import read_raw\n",
    "from mne.preprocessing import ICA\n",
    "from mne.viz import plot_compare_evokeds\n",
    "from pipeline.datasets import get_erpcore"
   ]
  },
  {
   "cell_type": "markdown",
   "id": "a5c10529",
   "metadata": {
    "lines_to_next_cell": 0
   },
   "source": [
    "## Recreate epochs\n",
    "\n",
    "We repeat the preprocessing and epoching steps from the previous chapters in a condensed form (without any intermediate plots).\n"
   ]
  },
  {
   "cell_type": "code",
   "execution_count": null,
   "id": "06252f85",
   "metadata": {
    "tags": [
     "hide-input",
     "hide-output"
    ]
   },
   "outputs": [],
   "source": [
    "# Download data\n",
    "files_dict = get_erpcore('N170', participants='sub-004', path='data')\n",
    "raw_file = files_dict['raw_files'][0]\n",
    "log_file = files_dict['log_files'][0]\n",
    "\n",
    "# Preprocessing\n",
    "raw = read_raw(raw_file, preload=True)\n",
    "raw = set_bipolar_reference(raw, anode='FP1', cathode='VEOG_lower',\n",
    "                            ch_name='VEOG', drop_refs=False)\n",
    "raw = set_bipolar_reference(raw, anode='HEOG_right', cathode='HEOG_left',\n",
    "                            ch_name='HEOG', drop_refs=False)\n",
    "raw = raw.set_channel_types({'VEOG': 'eog', 'HEOG': 'eog'})\n",
    "raw = raw.drop_channels(['VEOG_lower', 'HEOG_right', 'HEOG_left'])\n",
    "raw = raw.set_montage('biosemi64', match_case=False)\n",
    "raw = raw.filter(l_freq=0.1, h_freq=30.0)\n",
    "raw_copy = raw.copy().filter(l_freq=1.0, h_freq=None, verbose=False)\n",
    "ica = ICA(n_components=15)\n",
    "ica = ica.fit(raw_copy)\n",
    "eog_indices, eog_scores = ica.find_bads_eog(raw, ch_name=['VEOG', 'HEOG'],\n",
    "                                            verbose=False)\n",
    "ica.exclude = eog_indices\n",
    "raw = ica.apply(raw)\n",
    "raw = raw.set_eeg_reference('average')\n",
    "\n",
    "# Epoching\n",
    "log = pd.read_csv(log_file, sep='\\t')\n",
    "events = log[['sample', 'duration', 'value']].values.astype(int)\n",
    "events = merge_events(events, ids=range(1, 41), new_id=1)\n",
    "events = merge_events(events, ids=range(41, 81), new_id=2)\n",
    "event_id = {'face': 1, 'car': 2}\n",
    "epochs = Epochs(raw, events, event_id, tmin=-0.2, tmax=0.8,\n",
    "                baseline=(-0.2, 0.0), preload=True)\n",
    "epochs = epochs.drop_bad({'eeg': 200e-6})"
   ]
  },
  {
   "cell_type": "markdown",
   "id": "9f05c2e9",
   "metadata": {
    "lines_to_next_cell": 0
   },
   "source": [
    "This gives us the cleaned, epoched data as an `Epochs` object.\n"
   ]
  },
  {
   "cell_type": "code",
   "execution_count": null,
   "id": "c13a8156",
   "metadata": {},
   "outputs": [],
   "source": [
    "epochs"
   ]
  },
  {
   "cell_type": "markdown",
   "id": "6fab58fd",
   "metadata": {
    "lines_to_next_cell": 0
   },
   "source": [
    "## Averaging\n",
    "\n",
    "The actual averaging step is simple: We just need to use the `average()` method on an `Epochs` object.\n",
    "This will return an `Evoked` object, which contains the averaged data (channels × timepoints).\n"
   ]
  },
  {
   "cell_type": "code",
   "execution_count": null,
   "id": "d68d1262",
   "metadata": {},
   "outputs": [],
   "source": [
    "evokeds = epochs.average()\n",
    "evokeds"
   ]
  },
  {
   "cell_type": "code",
   "execution_count": null,
   "id": "11e854e7",
   "metadata": {},
   "outputs": [],
   "source": [
    "evokeds.get_data().shape"
   ]
  },
  {
   "cell_type": "markdown",
   "id": "e45acb7a",
   "metadata": {},
   "source": [
    "Like all MNE objects, evokeds have a `plot()` method to visualize the averaged time course at a single EEG channel:"
   ]
  },
  {
   "cell_type": "code",
   "execution_count": null,
   "id": "a22e2d7f",
   "metadata": {},
   "outputs": [],
   "source": [
    "_ = evokeds.plot(picks='PO8')"
   ]
  },
  {
   "cell_type": "markdown",
   "id": "73b75f90",
   "metadata": {
    "lines_to_next_cell": 0
   },
   "source": [
    "Or at all channels (also called a **butterfly plot**):\n"
   ]
  },
  {
   "cell_type": "code",
   "execution_count": null,
   "id": "50b21138",
   "metadata": {},
   "outputs": [],
   "source": [
    "_ = evokeds.plot()"
   ]
  },
  {
   "cell_type": "markdown",
   "id": "4f01d0c1",
   "metadata": {
    "lines_to_next_cell": 0
   },
   "source": [
    "But wait!\n",
    "Now we have averaged across *all* trials, but we are interested in the *difference* between face and car trials.\n",
    "To do so, we can perform the averaging twice, each time selecting only the epochs of one of the two conditions.\n",
    "We add a string as a `comment` to each evoked object to keep track of which is which.\n"
   ]
  },
  {
   "cell_type": "code",
   "execution_count": null,
   "id": "ee4d2c80",
   "metadata": {},
   "outputs": [],
   "source": [
    "evokeds_face = epochs['face'].average()\n",
    "evokeds_face.comment = 'face'\n",
    "evokeds_face"
   ]
  },
  {
   "cell_type": "code",
   "execution_count": null,
   "id": "e3ea9fdc",
   "metadata": {},
   "outputs": [],
   "source": [
    "evokeds_car = epochs['car'].average()\n",
    "evokeds_car.comment = 'car'\n",
    "evokeds_car"
   ]
  },
  {
   "cell_type": "markdown",
   "id": "e8ed7ede",
   "metadata": {
    "lines_to_next_cell": 0
   },
   "source": [
    "That way, we can now compare the two conditions by showing both of them in the same plot:\n"
   ]
  },
  {
   "cell_type": "code",
   "execution_count": null,
   "id": "42338e10",
   "metadata": {},
   "outputs": [],
   "source": [
    "evokeds_list = [evokeds_face, evokeds_car]\n",
    "_ = plot_compare_evokeds(evokeds_list, picks='PO8')"
   ]
  },
  {
   "cell_type": "markdown",
   "id": "908e3827",
   "metadata": {
    "lines_to_next_cell": 0
   },
   "source": [
    "## Difference wave\n",
    "\n",
    "From the two separate evokeds for the two conditions, we can also compute a **difference wave,** which is simply the difference (subtraction) between the two evokeds at each time point.\n",
    "\n",
    "There are multiple ways to implement this subtraction in code.\n",
    "One would be to extract the two Numpy arras (using the `get_data()` method) and then subtract them from one another.\n",
    "Or we could use MNE's `combine_evoked()` function with a specific set of weights that will perform the subtraction:\n"
   ]
  },
  {
   "cell_type": "code",
   "execution_count": null,
   "id": "a84fb948",
   "metadata": {},
   "outputs": [],
   "source": [
    "evokeds_diff = combine_evoked(evokeds_list, weights=[1, -1])\n",
    "evokeds_diff.comment = 'face - car'\n",
    "_ = evokeds_diff.plot()"
   ]
  },
  {
   "cell_type": "markdown",
   "id": "32d2289c",
   "metadata": {
    "lines_to_next_cell": 0
   },
   "source": [
    "The **time course plots** that we have created thus far are showing the data for a single EEG channel and all time points (i.e., one *row* of the data matrix).\n",
    "Alternatively, we could plot the data for all EEG channels at a single time point (i.e., one *column* of the data matrix).\n",
    "This is called a **scalp topography**.\n"
   ]
  },
  {
   "cell_type": "code",
   "execution_count": null,
   "id": "4c31964f",
   "metadata": {},
   "outputs": [],
   "source": [
    "_ = evokeds_diff.plot_topomap(times=[0.17])"
   ]
  },
  {
   "cell_type": "markdown",
   "id": "abe883e1",
   "metadata": {
    "lines_to_next_cell": 0
   },
   "source": [
    "The `Evoked` object even has a method to plot the time course (butterfly) plot and a few scalp topographies at the same time:\n"
   ]
  },
  {
   "cell_type": "code",
   "execution_count": null,
   "id": "9c8e4ec7",
   "metadata": {},
   "outputs": [],
   "source": [
    "_ = evokeds_diff.plot_joint(times=[0.0, 0.15, 0.17])"
   ]
  },
  {
   "cell_type": "markdown",
   "id": "198a28f9",
   "metadata": {
    "lines_to_next_cell": 0
   },
   "source": [
    "## Exercises\n",
    "\n",
    "1. Repeat the preprocessing and epoching (first code cell) for a different ERP CORE experiment (valid experiment names are `'N170'`, `'MMN'`, `'N2pc'`, `'N400'`, `'P3'`, or `'ERN'`).\n",
    "   Create evokeds for the two conditions in your experiment and visualize them using time course and scalp topography plots.\n"
   ]
  },
  {
   "cell_type": "code",
   "execution_count": null,
   "id": "127108fb",
   "metadata": {
    "tags": [
     "skip-execution"
    ]
   },
   "outputs": [],
   "source": [
    "# Your code goes here\n",
    "..."
   ]
  },
  {
   "cell_type": "markdown",
   "id": "4c385fb5",
   "metadata": {
    "lines_to_next_cell": 0
   },
   "source": [
    "## Further reading\n",
    "\n",
    "* Tutorial on evokeds on the [MNE-Python website](https://mne.tools/stable/auto_tutorials/evoked/10_evoked_overview.html)\n"
   ]
  },
  {
   "cell_type": "markdown",
   "id": "361dcd43",
   "metadata": {},
   "source": [
    "## References\n",
    "\n",
    "```{bibliography}\n",
    ":filter: docname in docnames\n",
    "```\n"
   ]
  }
 ],
 "metadata": {
  "jupytext": {
   "cell_metadata_filter": "tags,-all",
   "main_language": "python",
   "notebook_metadata_filter": "-all"
  }
 },
 "nbformat": 4,
 "nbformat_minor": 5
}
