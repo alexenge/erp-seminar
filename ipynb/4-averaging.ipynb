{
 "cells": [
  {
   "cell_type": "markdown",
   "id": "9bcac0fa",
   "metadata": {
    "lines_to_next_cell": 0
   },
   "source": [
    "# Averaging\n",
    "\n",
    "The EEG is a very noisy signal.\n",
    "Therefore, if we are interest in the brain's response to a certain event (e.g., seeing a face versus a car), we need to average the EEG response over many trials (repetitions) of that event (i.e., over many different face trials and many different car trials).\n",
    "With this **averaging** procedure, unsystematic noise will get canceled out, while the systematic brain response will remain.\n",
    "\n",
    "Averaging is performed separately for each EEG channel and timepoint, reducing the dimensionality of the data from trials × channels × timepoints (epochs) to channels × timepoints (average).\n",
    "\n",
    ":::{figure-md}\n",
    "<img src=\"https://files.mtstatic.com/site_7339/94057/0?Expires=1700853581&Signature=UeBaEMEJOBCxd9GX-iXbaSsW6XPM4iX2uABmaWUjOB1~qIaRQf-m4158~2wbQeVqmaaLPnX6o04fkunrzmP88Gr-zGgPhrMBes0MEkLXLy7B43XgdPwUPpO3tUVhOjvHrAuQthoD9lv9b2IYJNsFZ1hcLWeW4ZsezFs7~iSTMFM_&Key-Pair-Id=APKAJ5Y6AV4GI7A555NA\" alt=\"Continuous, epoched, and averaged EEG\" width=500>\n",
    "\n",
    "Continuous, epoched, and averaged EEG.\n",
    "Source: {cite:t}`luck2022a`\n",
    ":::\n",
    "\n",
    "In \"traditional\" ERP analysis, these averages (separately for each participant and condition) are also used for statistical testing (using $t$-tests or ANOVAs), but modern approaches (e.g., linear mixed models) are typically performed on the single trials data (before averaging).\n",
    "Averaging remains useful for visualization purposes.\n",
    "\n",
    "```{admonition} Goals\n",
    ":class: note\n",
    "\n",
    "* Creating an averaged ERP (\"evoked\")\n",
    "* Plotting evokeds as time courses and topographies\n",
    "```\n"
   ]
  },
  {
   "cell_type": "markdown",
   "id": "e635cc47",
   "metadata": {
    "lines_to_next_cell": 0
   },
   "source": [
    "## Load Python packages\n",
    "\n",
    "As always, all the functions we'll need are provided by the [MNE-Python](https://mne.tools/stable/index.html) package {cite:p}`gramfort2013`.\n"
   ]
  },
  {
   "cell_type": "code",
   "execution_count": null,
   "id": "0ee7b34d",
   "metadata": {},
   "outputs": [],
   "source": [
    "# %pip install mne hu-neuro-pipeline"
   ]
  },
  {
   "cell_type": "code",
   "execution_count": null,
   "id": "e68aaa4b",
   "metadata": {},
   "outputs": [],
   "source": [
    "from mne import (Epochs, combine_evoked, events_from_annotations, merge_events,\n",
    "                 set_bipolar_reference)\n",
    "from mne.io import read_raw\n",
    "from mne.preprocessing import ICA\n",
    "from mne.viz import plot_compare_evokeds\n",
    "from pipeline.datasets import get_erpcore"
   ]
  },
  {
   "cell_type": "markdown",
   "id": "8e3d4097",
   "metadata": {
    "lines_to_next_cell": 0
   },
   "source": [
    "## Recreate epochs\n",
    "\n",
    "We repeat the preprocessing and epoching steps from the previous chapters in a condensed form (without any intermediate plots).\n"
   ]
  },
  {
   "cell_type": "code",
   "execution_count": null,
   "id": "2ab967d0",
   "metadata": {
    "tags": [
     "hide-input",
     "hide-output"
    ]
   },
   "outputs": [],
   "source": [
    "eog_names = ['VEOG', 'HEOG']\n",
    "eog_anodes = ['FP1', 'HEOG_right']\n",
    "eog_cathodes = ['VEOG_lower', 'HEOG_left']\n",
    "eog_drop = ['VEOG_lower', 'HEOG_left', 'HEOG_right']\n",
    "montage = 'biosemi64'\n",
    "l_freq = 0.1\n",
    "h_freq = 30.0\n",
    "n_components = 15\n",
    "\n",
    "files_dict = get_erpcore('N170', participants='sub-004', path='data')\n",
    "raw_file = files_dict['raw_files'][0]\n",
    "\n",
    "raw = read_raw(raw_file, preload=True)\n",
    "\n",
    "for eog_name, anode, cathode in zip(eog_names, eog_anodes, eog_cathodes):\n",
    "    raw = set_bipolar_reference(raw, anode, cathode, eog_name, drop_refs=False)\n",
    "    raw = raw.set_channel_types({eog_name: 'eog'})\n",
    "raw = raw.drop_channels(eog_drop)\n",
    "raw = raw.set_montage(montage, match_case=False)\n",
    "\n",
    "raw = raw.filter(l_freq, h_freq)\n",
    "\n",
    "raw_copy = raw.copy().filter(l_freq=1.0, h_freq=None)\n",
    "ica = ICA(n_components=n_components)\n",
    "ica = ica.fit(raw_copy)\n",
    "eog_indices, eog_scores = ica.find_bads_eog(raw, eog_names, verbose=False)\n",
    "ica.exclude = eog_indices\n",
    "raw = ica.apply(raw)\n",
    "\n",
    "raw = raw.set_eeg_reference('average')\n",
    "\n",
    "events, event_id = events_from_annotations(raw)\n",
    "events = merge_events(events, ids=range(1, 41), new_id=1)\n",
    "events = merge_events(events, ids=range(41, 81), new_id=2)\n",
    "event_id = {'face': 1, 'car': 2}\n",
    "\n",
    "epochs = Epochs(raw, events, event_id, tmin=-0.2, tmax=0.8,\n",
    "                baseline=(-0.2, 0.0), reject={'eeg': 100e-6})"
   ]
  },
  {
   "cell_type": "markdown",
   "id": "a7655655",
   "metadata": {
    "lines_to_next_cell": 0
   },
   "source": [
    "This gives us the cleaned, epoched data as an `Epochs` object.\n"
   ]
  },
  {
   "cell_type": "code",
   "execution_count": null,
   "id": "16009b94",
   "metadata": {},
   "outputs": [],
   "source": [
    "epochs"
   ]
  },
  {
   "cell_type": "markdown",
   "id": "f8deaec4",
   "metadata": {
    "lines_to_next_cell": 0
   },
   "source": [
    "## Average epochs to evokeds\n",
    "\n",
    "The actual averaging step is simple: We just need to use the `average()` method on an `Epochs` object.\n",
    "This will return an `Evoked` object, which contains the averaged data (channels × timepoints).\n"
   ]
  },
  {
   "cell_type": "code",
   "execution_count": null,
   "id": "11f9a0fe",
   "metadata": {},
   "outputs": [],
   "source": [
    "evokeds = epochs.average()\n",
    "evokeds"
   ]
  },
  {
   "cell_type": "code",
   "execution_count": null,
   "id": "4fd01fe8",
   "metadata": {},
   "outputs": [],
   "source": [
    "evokeds.get_data().shape"
   ]
  },
  {
   "cell_type": "markdown",
   "id": "371f27bb",
   "metadata": {},
   "source": [
    "Like all MNE objects, evokeds have a `plot()` method to visualize the averaged time course at a single EEG channel:"
   ]
  },
  {
   "cell_type": "code",
   "execution_count": null,
   "id": "15dcf1b9",
   "metadata": {},
   "outputs": [],
   "source": [
    "_ = evokeds.plot(picks='PO8')"
   ]
  },
  {
   "cell_type": "markdown",
   "id": "5f1a33cb",
   "metadata": {
    "lines_to_next_cell": 0
   },
   "source": [
    "Or at all channels (also called a *butterfly plot*):\n"
   ]
  },
  {
   "cell_type": "code",
   "execution_count": null,
   "id": "ba0123eb",
   "metadata": {},
   "outputs": [],
   "source": [
    "_ = evokeds.plot()"
   ]
  },
  {
   "cell_type": "markdown",
   "id": "87e6e9b4",
   "metadata": {
    "lines_to_next_cell": 0
   },
   "source": [
    "But wait!\n",
    "Now we have averaged across *all* trials, but we are interested in the *difference* between face and car trials.\n",
    "To do so, we can perform the averaging twice, each time selecting only the epochs of one of the two conditions.\n",
    "We add a string as a `comment` to each evoked object to keep track of which is which.\n"
   ]
  },
  {
   "cell_type": "code",
   "execution_count": null,
   "id": "745dabfd",
   "metadata": {},
   "outputs": [],
   "source": [
    "evokeds_face = epochs['face'].average()\n",
    "evokeds_face.comment = 'face'\n",
    "evokeds_face"
   ]
  },
  {
   "cell_type": "code",
   "execution_count": null,
   "id": "91de231d",
   "metadata": {},
   "outputs": [],
   "source": [
    "evokeds_car = epochs['car'].average()\n",
    "evokeds_car.comment = 'car'\n",
    "evokeds_car"
   ]
  },
  {
   "cell_type": "markdown",
   "id": "99385685",
   "metadata": {
    "lines_to_next_cell": 0
   },
   "source": [
    "That way, we can now compare the two conditions by showing both of them in the same plot:\n"
   ]
  },
  {
   "cell_type": "code",
   "execution_count": null,
   "id": "e169c717",
   "metadata": {},
   "outputs": [],
   "source": [
    "evokeds_list = [evokeds_face, evokeds_car]\n",
    "_ = plot_compare_evokeds(evokeds_list, picks='PO8')"
   ]
  },
  {
   "cell_type": "markdown",
   "id": "04c4d562",
   "metadata": {
    "lines_to_next_cell": 0
   },
   "source": [
    "## Compute difference wave\n",
    "\n",
    "From the two separate evokeds for the two conditions, we can also compute a **difference wave,** which is simply the difference (subtraction) between the two evokeds at each time point.\n",
    "\n",
    "There are multiple ways to implement this subtraction in code.\n",
    "One would be to extract the two Numpy arras (using the `get_data()` method) and then subtract them from one another.\n",
    "Or we could use MNE's `combine_evoked()` function with a specific set of weights that will perform the subtraction:\n"
   ]
  },
  {
   "cell_type": "code",
   "execution_count": null,
   "id": "9430eb85",
   "metadata": {},
   "outputs": [],
   "source": [
    "evokeds_diff = combine_evoked(evokeds_list, weights=[1, -1])\n",
    "evokeds_diff.comment = 'face - car'\n",
    "_ = evokeds_diff.plot()"
   ]
  },
  {
   "cell_type": "markdown",
   "id": "5e0f7a39",
   "metadata": {
    "lines_to_next_cell": 0
   },
   "source": [
    "The **time course plots** that we have created thus far are showing the data for a single EEG channel and all time points (i.e., one *row* of the data matrix).\n",
    "Alternatively, we could plot the data for all EEG channels at a single time point (i.e., one *column* of the data matrix).\n",
    "This is called a **scalp topography**.\n"
   ]
  },
  {
   "cell_type": "code",
   "execution_count": null,
   "id": "5731a401",
   "metadata": {},
   "outputs": [],
   "source": [
    "_ = evokeds_diff.plot_topomap(times=[0.17])"
   ]
  },
  {
   "cell_type": "code",
   "execution_count": null,
   "id": "1cc731a1",
   "metadata": {
    "lines_to_next_cell": 0
   },
   "outputs": [],
   "source": [
    "# The `Evoked` object even has a method to plot the time course (butterfly) plot and a few scalp topographies at the same time:\n",
    "#"
   ]
  },
  {
   "cell_type": "code",
   "execution_count": null,
   "id": "52b00a16",
   "metadata": {},
   "outputs": [],
   "source": [
    "_ = evokeds_diff.plot_joint(times=[0.0, 0.17, 0.3])"
   ]
  },
  {
   "cell_type": "markdown",
   "id": "1da995a4",
   "metadata": {
    "lines_to_next_cell": 0
   },
   "source": [
    "## Exercises\n",
    "\n",
    "1. Repeat the preprocessing and epoching (first code cell) for a different ERP CORE experiment (valid experiment names are `'N170'`, `'MMN'`, `'N2pc'`, `'N400'`, `'P3'`, or `'ERN'`).\n",
    "   Create evokeds for the two conditions in your experiment and visualize them using time course and scalp topography plots.\n"
   ]
  },
  {
   "cell_type": "code",
   "execution_count": null,
   "id": "80758af0",
   "metadata": {
    "tags": [
     "skip-execution"
    ]
   },
   "outputs": [],
   "source": [
    "# Your code goes here\n",
    "..."
   ]
  },
  {
   "cell_type": "markdown",
   "id": "86062973",
   "metadata": {
    "lines_to_next_cell": 0
   },
   "source": [
    "## Further reading\n",
    "\n",
    "* Tutorial on evokeds on the [MNE-Python website](https://mne.tools/stable/auto_tutorials/evoked/10_evoked_overview.html)\n"
   ]
  },
  {
   "cell_type": "markdown",
   "id": "8dd268f0",
   "metadata": {},
   "source": [
    "## References\n",
    "\n",
    "```{bibliography}\n",
    ":filter: docname in docnames\n",
    "```\n"
   ]
  }
 ],
 "metadata": {
  "jupytext": {
   "cell_metadata_filter": "tags,-all",
   "main_language": "python",
   "notebook_metadata_filter": "-all"
  }
 },
 "nbformat": 4,
 "nbformat_minor": 5
}
