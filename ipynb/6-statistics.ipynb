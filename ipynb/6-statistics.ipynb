{
 "cells": [
  {
   "cell_type": "markdown",
   "id": "18782afe",
   "metadata": {
    "lines_to_next_cell": 0
   },
   "source": [
    "# Statistics\n",
    "\n",
    "In the previous chapters, we already got an idea about the differences in EEG activity between our conditions of interest (e.g., faces versus cars), as shown in the time course and scalp topography plots.\n",
    "However, we have to model the data statistically to be able to quantify the size of this difference and test if it is statistically significant (i.e., not due to chance).\n",
    "In this chapter, we will encounter different **statistical tests** that can be used to do this.\n",
    "\n",
    "While the EEG processing is done in Python as before, we will use the **[R](https://www.r-project.org) programming language** for statistical modeling because it has a larger number of statistical functions and packages, and because it is widely used in the psychological science community.\n",
    "\n",
    "```{admonition} Goals\n",
    ":class: note\n",
    "\n",
    "* Test for condition differences using \"classical\" models based on averaged data (e.g., $t$-tests, ANOVA)\n",
    "* Do the same by applying linear mixed models to the single trial data\n",
    "```\n"
   ]
  },
  {
   "cell_type": "markdown",
   "id": "4d950dea",
   "metadata": {
    "lines_to_next_cell": 0
   },
   "source": [
    "## Load Python packages\n",
    "\n",
    "We'll use the hu-neuro-pipeline package (introduced in Chapter 5) for EEG processing, and Numpy and seaborn for post-processing and plotting.\n",
    "As mentioned before, the actual statistical modeling will be done in R, but there are also Python packages for this (e.g., [statsmodels](https://www.statsmodels.org/stable/index.html)).\n"
   ]
  },
  {
   "cell_type": "code",
   "execution_count": null,
   "id": "d95c63dc",
   "metadata": {},
   "outputs": [],
   "source": [
    "import numpy as np\n",
    "import seaborn as sns\n",
    "from pipeline import group_pipeline\n",
    "from pipeline.datasets import get_erpcore"
   ]
  },
  {
   "cell_type": "markdown",
   "id": "20f0b584",
   "metadata": {
    "lines_to_next_cell": 0
   },
   "source": [
    "## Re-run the pipeline\n",
    "\n",
    "We use the same processing pipeline as introduced in the {ref}`pipeline` section of the previous chapter, giving us the single trial data and the average time courses.\n"
   ]
  },
  {
   "cell_type": "code",
   "execution_count": null,
   "id": "d940537e",
   "metadata": {
    "tags": [
     "output_scroll"
    ]
   },
   "outputs": [],
   "source": [
    "files_dict = get_erpcore('N170', participants=10, path='data')\n",
    "\n",
    "trials, evokeds, config = group_pipeline(raw_files=files_dict['raw_files'],\n",
    "                                         log_files=files_dict['log_files'],\n",
    "                                         output_dir='output',\n",
    "                                         montage='biosemi64',\n",
    "                                         ica_method='fastica',\n",
    "                                         ica_n_components=15,\n",
    "                                         triggers=range(1, 81),\n",
    "                                         skip_log_conditions={'value': range(81, 203)},\n",
    "                                         components={'name': 'N170',\n",
    "                                                     'tmin': 0.110,\n",
    "                                                     'tmax': 0.150,\n",
    "                                                     'roi': ['PO8']},\n",
    "                                         average_by={'face': 'value <= 40',\n",
    "                                                     'car': 'value > 40'})"
   ]
  },
  {
   "cell_type": "markdown",
   "id": "ed86f53e",
   "metadata": {
    "lines_to_next_cell": 0
   },
   "source": [
    "## Single trial data\n",
    "\n",
    "The main output of the hu-neuro-pipeline package is the **single trial data frame**, which contains the EEG data for each trial, averaged across an *a priori* hypothesized time window and electrode(s) of interest (see the `components` argument above).\n"
   ]
  },
  {
   "cell_type": "code",
   "execution_count": null,
   "id": "5c28f504",
   "metadata": {},
   "outputs": [],
   "source": [
    "trials"
   ]
  },
  {
   "cell_type": "markdown",
   "id": "1a531586",
   "metadata": {
    "lines_to_next_cell": 0
   },
   "source": [
    "Using a combination of pandas and Numpy, we'll create a new column in the data frame with verbal labels for our two conditions of interest (faces and cars).\n",
    "This is based on the numerical event codes (stored in the `value` column), the meaning of which was described in the {ref}`events` section of the Epoching chapter.\n"
   ]
  },
  {
   "cell_type": "code",
   "execution_count": null,
   "id": "a4f8c1ea",
   "metadata": {},
   "outputs": [],
   "source": [
    "trials['condition'] = np.where(trials['value'] <= 40, 'face', 'car')\n",
    "trials"
   ]
  },
  {
   "cell_type": "markdown",
   "id": "e3f19df9",
   "metadata": {
    "lines_to_next_cell": 0
   },
   "source": [
    "Using seaborn, we can plot the distribution of the single trial N170 amplitudes, separately for the two conditions.\n",
    "Note that this plot does not take into account the repeated measurements of the same participant, which we will address later.\n"
   ]
  },
  {
   "cell_type": "code",
   "execution_count": null,
   "id": "b720e09a",
   "metadata": {},
   "outputs": [],
   "source": [
    "_ = sns.violinplot(data=trials, y='N170', hue='condition',\n",
    "                   inner='quart', split=True, fill=False)"
   ]
  },
  {
   "cell_type": "markdown",
   "id": "5e44fd38",
   "metadata": {
    "lines_to_next_cell": 0
   },
   "source": [
    "## Linear models\n",
    "\n",
    "The \"traditional\" way for statistical analysis of ERPs is to (a) average the data across trials for each participant and condition, and (b) apply a statistical test to the averaged data.\n",
    "\n",
    "Let's start with the first step.\n",
    "The pandas package has the necessary methods to group the data by participant and condition (`groupby()` method), and compute the average N170 amplitude across trials for each grouping (`mean()` method).\n"
   ]
  },
  {
   "cell_type": "code",
   "execution_count": null,
   "id": "f80bd4b3",
   "metadata": {},
   "outputs": [],
   "source": [
    "trials_ave = trials[['participant_id', 'condition', 'N170']].\\\n",
    "    groupby(['participant_id', 'condition']).\\\n",
    "    mean().\\\n",
    "    reset_index()"
   ]
  },
  {
   "cell_type": "markdown",
   "id": "76c2f637",
   "metadata": {
    "lines_to_next_cell": 0
   },
   "source": [
    "Now we can pass the data frame to R and apply an appropriate statistical test.\n",
    "Using the `rpy2` package, we can run R code directly in the Jupyter notebook, using the `%%R` magic command at the beginning of a code cell.\n"
   ]
  },
  {
   "cell_type": "code",
   "execution_count": null,
   "id": "6fdb0a66",
   "metadata": {},
   "outputs": [],
   "source": [
    "%load_ext rpy2.ipython"
   ]
  },
  {
   "cell_type": "markdown",
   "id": "2a6702d4",
   "metadata": {
    "lines_to_next_cell": 0
   },
   "source": [
    "An appropriate statistical test needs to take into account that our two conditions are manipulated *within* participants, that is, we have repeated measures that are likely correlated with one another (violating the independence assumption of many statistical tests, e.g., linear regression).\n",
    "\n",
    "Luckily, there are statistical tests that can handle repeated measures data, such as the paired $t$-test or repeated measures ANOVA.\n",
    "\n",
    "Let's start with the paired $t$-test:\n"
   ]
  },
  {
   "cell_type": "code",
   "execution_count": null,
   "id": "fff0ac51",
   "metadata": {},
   "outputs": [],
   "source": [
    "%%R -i trials_ave\n",
    "\n",
    "t.test(N170 ~ condition, data = trials_ave, paired=TRUE)"
   ]
  },
  {
   "cell_type": "markdown",
   "id": "5cdddad1",
   "metadata": {
    "lines_to_next_cell": 0
   },
   "source": [
    "We see that in this sample, the amplitude in response to faces is approximately 2.5 µV lower (more negative) than in response to cars, as would be expected for the N170 component.\n",
    "This difference is statistically significant with $t(9) = -6.56$, $p \\approx .0001$.\n",
    "\n",
    "Note that we could have gotten the same result by applying a one sample $t$-test to the difference scores:\n"
   ]
  },
  {
   "cell_type": "code",
   "execution_count": null,
   "id": "850da303",
   "metadata": {},
   "outputs": [],
   "source": [
    "trials_ave_wide = trials_ave.pivot(index='participant_id', columns='condition', \n",
    "                                   values='N170')\n",
    "trials_ave_wide['diff'] = trials_ave_wide['car'] - trials_ave_wide['face']\n",
    "trials_ave_wide"
   ]
  },
  {
   "cell_type": "code",
   "execution_count": null,
   "id": "098c7554",
   "metadata": {},
   "outputs": [],
   "source": [
    "%%R -i trials_ave_wide\n",
    "\n",
    "t.test(trials_ave_wide$diff)"
   ]
  },
  {
   "cell_type": "markdown",
   "id": "ae7f8ff3",
   "metadata": {},
   "source": [
    "Or by running a repeated measures ANOVA with a single (two-level) factor:"
   ]
  },
  {
   "cell_type": "code",
   "execution_count": null,
   "id": "4853b702",
   "metadata": {},
   "outputs": [],
   "source": [
    "%%R -i trials_ave\n",
    "\n",
    "# install.packages(\"ez\")\n",
    "\n",
    "ez::ezANOVA(\n",
    "  data = trials_ave,\n",
    "  dv = N170,\n",
    "  wid = participant_id,\n",
    "  within = condition\n",
    ")"
   ]
  },
  {
   "cell_type": "markdown",
   "id": "82da49ac",
   "metadata": {
    "lines_to_next_cell": 0
   },
   "source": [
    "## Linear mixed models\n",
    "\n",
    "The above approach of running a repeated measures linear model (ANOVA or $t$-test) on the averaged data is the \"traditional\" way of analyzing ERPs and still widely used.\n",
    "However, it comes with a number of drawbacks:\n",
    "\n",
    "* The averaging step discards a lot of information\n",
    "* We often don't just have repeated measures of the same participants, but also of the same items (again violating the independence assumption) {cite:p}`judd2012,burki2018`\n",
    "* We cannot include any information about specific trials or stimuli in the model\n",
    "* We cannot include any continuous predictor variables in the model\n",
    "* These models assume the same noise level (i.e., number of averaged trials) for all participants and conditions\n",
    "\n",
    "A more flexible approach that can solve all of these problems (and more!) is to use linear-mixed effects models (LMMs) {cite:p}`fromer2018,volpert-esmond2021`.\n",
    "These models predict the single trial amplitudes directly and accounts for repeated measures of participants and/or items by including random effects for these factors.\n",
    "They can also include continuous predictor variables at the participant and trial level, and they do not required a balanced design (i.e., the same number of trials for each participant and condition).\n",
    "\n",
    "In R, we can use the [lme4](https://github.com/lme4/lme4) package to fit LMMs {cite:p}`bates2015`.\n"
   ]
  },
  {
   "cell_type": "code",
   "execution_count": null,
   "id": "3512ee34",
   "metadata": {},
   "outputs": [],
   "source": [
    "%%R -i trials\n",
    "\n",
    "# install.packages(\"lme4\")\n",
    "\n",
    "mod <- lme4::lmer(N170 ~ 1 + condition + (1 | participant_id), trials)\n",
    "summary(mod)"
   ]
  },
  {
   "cell_type": "markdown",
   "id": "17067332",
   "metadata": {},
   "source": [
    "In this model, we're predicting the single trial N170 amplitude (`N170`) from a categorical predictor variable (`condition`) and an intercept (`1`) as fixed effects.\n",
    "We also specify a random intercept for the participant factor (`(1 | participant_id)`), which accounts for differences in the (average) voltage level between participants.\n",
    "Note that we could (and should) also include a random slope for the condition factor (`(1 + condition | participant_id)`), as well as a random intercept for the item factor (`(1 | value)`).\n",
    "However, in this example case with only 10 participants, this model would be overly complex and likely fail to converge.\n",
    "\n",
    "In the above output, you will not any find any $p$-values to decide if the fixed effects are statistically significant.\n",
    "If and how best to compute $p$-values for LMMs is still a matter of debate, but one common solution is a fancy method called the Satterthwaite approximation.\n",
    "This is implemented in the [lmerTest](https://github.com/runehaubo/lmerTestR) package {cite:p}`kuznetsova2017`, which has a drop-in replacement for the `lmer()` function *with* $p$-values:"
   ]
  },
  {
   "cell_type": "code",
   "execution_count": null,
   "id": "1fdada42",
   "metadata": {},
   "outputs": [],
   "source": [
    "%%R -i trials\n",
    "\n",
    "# install.packages(\"lmerTest\")\n",
    "\n",
    "mod <- lmerTest::lmer(N170 ~ 1 + condition + (1 | participant_id), trials)\n",
    "summary(mod)"
   ]
  },
  {
   "cell_type": "markdown",
   "id": "4dbea5a8",
   "metadata": {
    "lines_to_next_cell": 0
   },
   "source": [
    "We see that there is a highly (statistically) significant reduction of N170 voltages for faces compared to cars, but also that the estimates and $p$-values are slightly different compared to the previous models (based on the averaged data, with all the drawbacks mentioned above).\n",
    "\n",
    "Note that there are other methods for statistical analysis of ERP data, such as **cluster-based permutation tests** (CBPTs) {cite:p}`maris2007,sassenhagen2019`.\n",
    "These do not require a strict a priori hypothesis about the time window and channel(s) of interest and are therefore especially useful for exploratory analyses.\n",
    "A tutorial for how to compute CBPTs in the MNE-Python and hu-neuro-pipeline packages will be included as a bonus chapter in the future.\n"
   ]
  },
  {
   "cell_type": "markdown",
   "id": "5db8360c",
   "metadata": {
    "lines_to_next_cell": 0
   },
   "source": [
    "## Exercises\n",
    "\n",
    "1. Re-run the analysis pipeline for 10 participants from a different ERP CORE experiment (valid experiment names are `'N170'`, `'MMN'`, `'N2pc'`, `'N400'`, `'P3'`, or `'ERN'`) and fit a $t$-test to the average amplitudes of the relevant component.\n",
    "2. Repeat the same analysis but with the single trial data and a linear mixed model.\n",
    "   Try to see if you can include random intercepts and slopes for participants, and random intercepts or slopes for items (if appropriate).\n",
    "   Simplify the random effects in case the model fails to converge, and try to interpret the fixed effect estimates and $p$-values.\n"
   ]
  },
  {
   "cell_type": "code",
   "execution_count": null,
   "id": "e305b525",
   "metadata": {
    "tags": [
     "skip-execution"
    ]
   },
   "outputs": [],
   "source": [
    "# Your code goes here\n",
    "..."
   ]
  },
  {
   "cell_type": "markdown",
   "id": "202a04a0",
   "metadata": {
    "lines_to_next_cell": 0
   },
   "source": [
    "## Further reading\n",
    "\n",
    "* Paper *Group-level EEG-processing pipeline for flexible single trial-based analyses including linear mixed models* {cite:p}`fromer2018`\n",
    "* Chapter *Principles of statistical analyses: Old and new tools* {cite:p}`kretzschmar2023`\n",
    "* [Blog post](https://benediktehinger.de/blog/science/lmm-type-1-error-for-1condition1subject/) by Benedikt Ehinger on why to (almost) always include random slopes in LMMs\n"
   ]
  },
  {
   "cell_type": "markdown",
   "id": "00a1cd08",
   "metadata": {},
   "source": [
    "## References\n",
    "\n",
    "```{bibliography}\n",
    ":filter: docname in docnames\n",
    "```\n"
   ]
  }
 ],
 "metadata": {
  "jupytext": {
   "cell_metadata_filter": "tags,-all",
   "main_language": "python",
   "notebook_metadata_filter": "-all"
  }
 },
 "nbformat": 4,
 "nbformat_minor": 5
}
