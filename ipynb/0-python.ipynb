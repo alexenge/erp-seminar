{
  "cells": [
    {
      "cell_type": "markdown",
      "id": "f4e5a66e",
      "metadata": {
        "lines_to_next_cell": 0
      },
      "source": [
        "# 0. Python\n",
        "\n",
        "<!--<badge>--><a href=\"https://colab.research.google.com/github/alexenge/intro-to-eeg/blob/main/ipynb/0-python.ipynb\" target=\"_parent\"><img src=\"https://colab.research.google.com/assets/colab-badge.svg\" alt=\"Open In Colab\"/></a><!--</badge>-->\n",
        "<br>\n",
        "\n",
        "In this course, we will us the Python programming language for analyzing EEG data.\n",
        "Python as an open source programming language that is used in many areas of science and engineering.\n",
        "It is very similar to the [R language](https://www.r-project.org) that you might know from your statistics classes, but slightly more general and more widely used outside of psychology.\n",
        "This first section of the course will provide a very brief introduction into the Python language.\n",
        "\n",
        "In this section we will:\n",
        "- Use Python as a calculator\n",
        "- Define variables\n",
        "- Meet different data types\n",
        "- Run loops\n",
        "- Run functions\n",
        "- Load modules\n"
      ]
    },
    {
      "cell_type": "markdown",
      "id": "b9a31750",
      "metadata": {
        "lines_to_next_cell": 0
      },
      "source": [
        "## 0.1 Calculations\n",
        "\n",
        "Like most programming languages, Python can perform basic arithmetic operations like addition, subtraction, multiplication, and division.\n"
      ]
    },
    {
      "cell_type": "code",
      "execution_count": null,
      "id": "e7edf0f1",
      "metadata": {},
      "outputs": [],
      "source": [
        "3 + 3"
      ]
    },
    {
      "cell_type": "code",
      "execution_count": null,
      "id": "33467ecd",
      "metadata": {},
      "outputs": [],
      "source": [
        "10 - 7"
      ]
    },
    {
      "cell_type": "code",
      "execution_count": null,
      "id": "238d2105",
      "metadata": {},
      "outputs": [],
      "source": [
        "7 * 8"
      ]
    },
    {
      "cell_type": "code",
      "execution_count": null,
      "id": "87744df3",
      "metadata": {},
      "outputs": [],
      "source": [
        "10 / 4"
      ]
    },
    {
      "cell_type": "code",
      "execution_count": null,
      "id": "174a5337",
      "metadata": {},
      "outputs": [],
      "source": [
        "10 // 4"
      ]
    },
    {
      "cell_type": "code",
      "execution_count": null,
      "id": "12900cc4",
      "metadata": {},
      "outputs": [],
      "source": [
        "2 ** 4"
      ]
    },
    {
      "cell_type": "code",
      "execution_count": null,
      "id": "f4a33b39",
      "metadata": {},
      "outputs": [],
      "source": [
        "16 ** 0.5"
      ]
    },
    {
      "cell_type": "markdown",
      "id": "48ae5e7e",
      "metadata": {
        "lines_to_next_cell": 0
      },
      "source": [
        "\n",
        "Using the hash sign (``#``), we can add comments to our code to add notes for ourselves or others.\n"
      ]
    },
    {
      "cell_type": "code",
      "execution_count": null,
      "id": "634be7a8",
      "metadata": {},
      "outputs": [],
      "source": [
        "# Comments (starting with '#') are ignored by Python"
      ]
    },
    {
      "cell_type": "markdown",
      "id": "48379f99",
      "metadata": {
        "lines_to_next_cell": 0
      },
      "source": [
        "## 0.2 Variables\n",
        "\n",
        "**Variables** are used to store values for later use.\n",
        "They are defined by assigning a value (right hand side) to a custom variable name (left hand side), with an equals sign (``=``) in between.\n",
        "We can print the value of a variable by simply typing its name (or, alternatively, by using the ``print()`` function).\n"
      ]
    },
    {
      "cell_type": "code",
      "execution_count": null,
      "id": "d300dcc4",
      "metadata": {},
      "outputs": [],
      "source": [
        "a = 3\n",
        "a"
      ]
    },
    {
      "cell_type": "code",
      "execution_count": null,
      "id": "9f8ac635",
      "metadata": {},
      "outputs": [],
      "source": [
        "a = 3\n",
        "b = 4\n",
        "c = a + b\n",
        "c"
      ]
    },
    {
      "cell_type": "code",
      "execution_count": null,
      "id": "034b0f8f",
      "metadata": {},
      "outputs": [],
      "source": [
        "a = 3\n",
        "a = 5\n",
        "a"
      ]
    },
    {
      "cell_type": "code",
      "execution_count": null,
      "id": "86c8d00b",
      "metadata": {},
      "outputs": [],
      "source": [
        "a = 3\n",
        "b = a\n",
        "a = 5\n",
        "b"
      ]
    },
    {
      "cell_type": "markdown",
      "id": "3a024f82",
      "metadata": {
        "lines_to_next_cell": 0
      },
      "source": [
        "## 0.3 Data types\n",
        "\n",
        "So far, we have only used single numbers, but Python also supports many other types of data.\n",
        "An important distinction is between **scalars** (single values, such as a single number) and **iterables** (collections of values, such as a list of numbers).\n"
      ]
    },
    {
      "cell_type": "markdown",
      "id": "65bd8793",
      "metadata": {
        "lines_to_next_cell": 0
      },
      "source": [
        "### 0.3.1 Scalars\n"
      ]
    },
    {
      "cell_type": "markdown",
      "id": "11f3f881",
      "metadata": {
        "lines_to_next_cell": 0
      },
      "source": [
        "An **integer** (``int``) is a whole number (positive or negative).\n"
      ]
    },
    {
      "cell_type": "code",
      "execution_count": null,
      "id": "d113034e",
      "metadata": {},
      "outputs": [],
      "source": [
        "my_var = 3\n",
        "type(my_var)"
      ]
    },
    {
      "cell_type": "markdown",
      "id": "54835b99",
      "metadata": {
        "lines_to_next_cell": 0
      },
      "source": [
        "\n",
        "A **float** (``float``) is a number with a decimal point.\n"
      ]
    },
    {
      "cell_type": "code",
      "execution_count": null,
      "id": "b3301111",
      "metadata": {},
      "outputs": [],
      "source": [
        "my_var = 3.0\n",
        "type(my_var)"
      ]
    },
    {
      "cell_type": "markdown",
      "id": "91f59a46",
      "metadata": {
        "lines_to_next_cell": 0
      },
      "source": [
        "\n",
        "A **string** (``str``) is a sequence of characters (letters, numbers, symbols).\n"
      ]
    },
    {
      "cell_type": "code",
      "execution_count": null,
      "id": "c205eb8a",
      "metadata": {},
      "outputs": [],
      "source": [
        "my_var = 'Hello world'\n",
        "type(my_var)"
      ]
    },
    {
      "cell_type": "markdown",
      "id": "9b165c13",
      "metadata": {
        "lines_to_next_cell": 0
      },
      "source": [
        "\n",
        "A **Boolean** (``bool``) is one of the two logical values ``True`` or ``False``.\n"
      ]
    },
    {
      "cell_type": "code",
      "execution_count": null,
      "id": "ae089a21",
      "metadata": {},
      "outputs": [],
      "source": [
        "my_var = True\n",
        "type(my_var)"
      ]
    },
    {
      "cell_type": "markdown",
      "id": "ead60aee",
      "metadata": {
        "lines_to_next_cell": 0
      },
      "source": [
        "\n",
        "**``None``** is a special value that represents the absence of a value.\n"
      ]
    },
    {
      "cell_type": "code",
      "execution_count": null,
      "id": "4cadf8d0",
      "metadata": {},
      "outputs": [],
      "source": [
        "my_var = None\n",
        "type(my_var)"
      ]
    },
    {
      "cell_type": "markdown",
      "id": "7bc6cfde",
      "metadata": {
        "lines_to_next_cell": 0
      },
      "source": [
        "### 0.3.2 Iterables\n"
      ]
    },
    {
      "cell_type": "markdown",
      "id": "b574f3e3",
      "metadata": {
        "lines_to_next_cell": 0
      },
      "source": [
        "\n",
        "A **list** (``list``) is a collection of values and is defined by square brackets.\n"
      ]
    },
    {
      "cell_type": "code",
      "execution_count": null,
      "id": "41d40769",
      "metadata": {},
      "outputs": [],
      "source": [
        "my_var = [1, 2, 3]\n",
        "type(my_var)"
      ]
    },
    {
      "cell_type": "markdown",
      "id": "899b1ee4",
      "metadata": {
        "lines_to_next_cell": 0
      },
      "source": [
        "\n",
        "Elements of a list can be accessed via their index (starting at ``0``, unlike R or MATLAB) in square brackets.\n"
      ]
    },
    {
      "cell_type": "code",
      "execution_count": null,
      "id": "e9495dad",
      "metadata": {},
      "outputs": [],
      "source": [
        "my_var[1]"
      ]
    },
    {
      "cell_type": "markdown",
      "id": "b85ec7b9",
      "metadata": {
        "lines_to_next_cell": 0
      },
      "source": [
        "\n",
        "This can also be used to change the value of an element.\n",
        "Note that, as shown here, lists can contain elements of different types (unlike vectors in R).\n"
      ]
    },
    {
      "cell_type": "code",
      "execution_count": null,
      "id": "db88e6a5",
      "metadata": {},
      "outputs": [],
      "source": [
        "my_var[2] = 'Hooray!'\n",
        "my_var"
      ]
    },
    {
      "cell_type": "markdown",
      "id": "a508f540",
      "metadata": {
        "lines_to_next_cell": 0
      },
      "source": [
        "\n",
        "A **tuple** (``tuple``) works like a list, but cannot be changed after it has been created (it is \"immutable\").\n",
        "It is defined by round brackets.\n"
      ]
    },
    {
      "cell_type": "code",
      "execution_count": null,
      "id": "24550028",
      "metadata": {},
      "outputs": [],
      "source": [
        "my_var = (1, 2, 3)\n",
        "type(my_var)"
      ]
    },
    {
      "cell_type": "code",
      "execution_count": null,
      "id": "c9258778",
      "metadata": {
        "lines_to_next_cell": 2
      },
      "outputs": [],
      "source": [
        "my_var[1]"
      ]
    },
    {
      "cell_type": "code",
      "execution_count": null,
      "id": "a67dcb54",
      "metadata": {
        "tags": [
          "raises-exception"
        ]
      },
      "outputs": [],
      "source": [
        "my_var[2] = 'Hooray!'"
      ]
    },
    {
      "cell_type": "markdown",
      "id": "85dd8da2",
      "metadata": {
        "lines_to_next_cell": 0
      },
      "source": [
        "\n",
        "A **dictionary** (``dict``) is a collection of key-value pairs and is defined by curly brackets.\n",
        "The keys (usually some kind of labels) can then be used to access the corresponding values (usually some kinds of data).\n"
      ]
    },
    {
      "cell_type": "code",
      "execution_count": null,
      "id": "06bf916d",
      "metadata": {},
      "outputs": [],
      "source": [
        "my_var = {'Name': 'Berger', 'First_name': 'Hans', 'age': 53, 'married': True}\n",
        "type(my_var)"
      ]
    },
    {
      "cell_type": "code",
      "execution_count": null,
      "id": "44423a82",
      "metadata": {},
      "outputs": [],
      "source": [
        "my_var['First_name']"
      ]
    },
    {
      "cell_type": "markdown",
      "id": "b802c586",
      "metadata": {
        "lines_to_next_cell": 0
      },
      "source": [
        "## 0.4 Loops\n",
        "\n",
        "Loops are used to repeat a certain operation multiple times.\n",
        "The most common type of loop is a **for loop**, which iterates over the elements of an iterable (such as a list).\n"
      ]
    },
    {
      "cell_type": "code",
      "execution_count": null,
      "id": "661991f6",
      "metadata": {},
      "outputs": [],
      "source": [
        "names = ['Alice', 'Bob', 'Chantoya']\n",
        "for name in names:\n",
        "    print('Hello ' + name)"
      ]
    },
    {
      "cell_type": "markdown",
      "id": "67177d6c",
      "metadata": {
        "lines_to_next_cell": 0
      },
      "source": [
        "\n",
        "Note that the operations inside the loop need to be indented by exactly four spaces.\n",
        "Python, unlike R, is very strict about indentation.\n",
        "\n",
        "It is often useful to store the results of a loop in a new list.\n"
      ]
    },
    {
      "cell_type": "code",
      "execution_count": null,
      "id": "5fdf302f",
      "metadata": {},
      "outputs": [],
      "source": [
        "names = ['Alice', 'Bob', 'Chantoya']\n",
        "greetings = []\n",
        "for name in names:\n",
        "    greetings.append('Hello ' + name)\n",
        "greetings"
      ]
    },
    {
      "cell_type": "markdown",
      "id": "6865e48a",
      "metadata": {
        "lines_to_next_cell": 0
      },
      "source": [
        "## 0.5 Functions\n",
        "\n",
        "Functions are pre-defined operations that can be applied to some input data.\n",
        "Functions are called by writing their name, followed by round brackets containing the input arguments.\n",
        "\n",
        "As an example, the ``sum()`` function calculates the sum of all elements in a list.\n"
      ]
    },
    {
      "cell_type": "code",
      "execution_count": null,
      "id": "a567c472",
      "metadata": {},
      "outputs": [],
      "source": [
        "numbers = [1, 2, 3]\n",
        "sum(numbers)"
      ]
    },
    {
      "cell_type": "markdown",
      "id": "01b78894",
      "metadata": {
        "lines_to_next_cell": 0
      },
      "source": [
        "\n",
        "The ``len()`` function returns the length of an iterable.\n"
      ]
    },
    {
      "cell_type": "code",
      "execution_count": null,
      "id": "6080b20c",
      "metadata": {},
      "outputs": [],
      "source": [
        "len(numbers)"
      ]
    },
    {
      "cell_type": "markdown",
      "id": "dc8ffa8f",
      "metadata": {
        "lines_to_next_cell": 0
      },
      "source": [
        "\n",
        "We can also define our own custom functions like this:\n"
      ]
    },
    {
      "cell_type": "code",
      "execution_count": null,
      "id": "72c9c53a",
      "metadata": {},
      "outputs": [],
      "source": [
        "\n",
        "\n",
        "def square(x):\n",
        "    \"\"\"Multiplies a number (x) by itself.\"\"\"\n",
        "    return x ** 2\n",
        "\n",
        "\n",
        "square(3)"
      ]
    },
    {
      "cell_type": "markdown",
      "id": "6e308509",
      "metadata": {
        "lines_to_next_cell": 0
      },
      "source": [
        "\n",
        "Functions can have multiple input arguments.\n",
        "These can be specified by name (keyword arguments) or by position (positional arguments).\n"
      ]
    },
    {
      "cell_type": "code",
      "execution_count": null,
      "id": "90189110",
      "metadata": {},
      "outputs": [],
      "source": [
        "\n",
        "\n",
        "def power(base, exponent):\n",
        "    \"\"\"Exponentiates a number (base) to a given power (exponent).\"\"\"\n",
        "    return base ** exponent\n",
        "\n",
        "\n",
        "power(2, exponent=3)"
      ]
    },
    {
      "cell_type": "markdown",
      "id": "8316fd01",
      "metadata": {
        "lines_to_next_cell": 0
      },
      "source": [
        "## 0.6 Modules\n",
        "\n",
        "Python only comes with a limited set of built-in functions like ``sum()`` and ``len()``.\n",
        "Many additional functions are provided by external **modules** (also called **packages**).\n",
        "\n",
        "To use these, we first need to install them (only once) and then import them (at the beginning of each script).\n",
        "As an example, we will install the ``numpy`` module for working with numerical data.\n"
      ]
    },
    {
      "cell_type": "code",
      "execution_count": null,
      "id": "d629aec2",
      "metadata": {},
      "outputs": [],
      "source": [
        "%pip install numpy"
      ]
    },
    {
      "cell_type": "code",
      "execution_count": null,
      "id": "48293680",
      "metadata": {
        "lines_to_next_cell": 0
      },
      "outputs": [],
      "source": [
        "# We can now import the module and use its functions:\n",
        "#"
      ]
    },
    {
      "cell_type": "code",
      "execution_count": null,
      "id": "0f20bde5",
      "metadata": {},
      "outputs": [],
      "source": [
        "import numpy\n",
        "\n",
        "numbers = [1, 2, 3]\n",
        "numpy.mean(numbers)"
      ]
    },
    {
      "cell_type": "markdown",
      "id": "903aed92",
      "metadata": {
        "lines_to_next_cell": 0
      },
      "source": [
        "\n",
        "We can also import the module under a custom name (alias) to make it easier to use.\n",
        "This is very common for the ``numpy`` module, which is usually imported as ``np``.\n"
      ]
    },
    {
      "cell_type": "code",
      "execution_count": null,
      "id": "adfd26bf",
      "metadata": {},
      "outputs": [],
      "source": [
        "import numpy as np\n",
        "\n",
        "np.mean(numbers)"
      ]
    },
    {
      "cell_type": "markdown",
      "id": "a52d0a65",
      "metadata": {
        "lines_to_next_cell": 0
      },
      "source": [
        "\n",
        "We can also import only specific functions from a module:\n"
      ]
    },
    {
      "cell_type": "code",
      "execution_count": null,
      "id": "15dc8ae2",
      "metadata": {},
      "outputs": [],
      "source": [
        "from numpy import mean\n",
        "\n",
        "mean(numbers)"
      ]
    },
    {
      "cell_type": "markdown",
      "id": "aeaa127c",
      "metadata": {},
      "source": [
        "Numpy can also be used to create arrays, which are similar to lists but with two important differences:\n",
        "- Arrays can only contain elements of the same type (e.g., only floats)\n",
        "- Arrays can be multi-dimensional (e.g., a 2D matrix with two rows and three columns)"
      ]
    },
    {
      "cell_type": "code",
      "execution_count": null,
      "id": "a6397650",
      "metadata": {},
      "outputs": [],
      "source": [
        "my_array = np.array([[1, 2, 3], [4, 5, 6]])\n",
        "np.mean(my_array)"
      ]
    },
    {
      "cell_type": "code",
      "execution_count": null,
      "id": "809fa613",
      "metadata": {},
      "outputs": [],
      "source": [
        "np.mean(my_array, axis=0)"
      ]
    },
    {
      "cell_type": "code",
      "execution_count": null,
      "id": "2b8c490f",
      "metadata": {},
      "outputs": [],
      "source": [
        "np.mean(my_array, axis=1)"
      ]
    }
  ],
  "metadata": {
    "jupytext": {
      "cell_metadata_filter": "tags,-all",
      "main_language": "python",
      "notebook_metadata_filter": "-all"
    }
  },
  "nbformat": 4,
  "nbformat_minor": 5
}