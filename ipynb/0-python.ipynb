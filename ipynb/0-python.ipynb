{
 "cells": [
  {
   "cell_type": "markdown",
   "id": "77d9d25e",
   "metadata": {
    "lines_to_next_cell": 0
   },
   "source": [
    "# 0. Python\n",
    "\n",
    "In this course, we will us the Python programming language for analyzing EEG data.\n",
    "Python as an open source programming language that is used in many areas of science and engineering.\n",
    "It is very similar to the [R language](https://www.r-project.org) that you might know from your statistics classes, but slightly more general and more widely used outside of psychology.\n",
    "This first section of the course will provide a very brief introduction into the Python language.\n",
    "\n",
    "In this section we will:\n",
    "- Use Python as a calculator\n",
    "- Define variables\n",
    "- Meet different data types\n",
    "- Run loops\n",
    "- Run functions\n",
    "- Load modules\n"
   ]
  },
  {
   "cell_type": "markdown",
   "id": "39a7734d",
   "metadata": {
    "lines_to_next_cell": 0
   },
   "source": [
    "## 0.1 Calculations\n",
    "\n",
    "Like most programming languages, Python can perform basic arithmetic operations like addition, subtraction, multiplication, and division.\n"
   ]
  },
  {
   "cell_type": "code",
   "execution_count": null,
   "id": "ddf8b4fd",
   "metadata": {},
   "outputs": [],
   "source": [
    "3 + 3"
   ]
  },
  {
   "cell_type": "code",
   "execution_count": null,
   "id": "ae62aec2",
   "metadata": {},
   "outputs": [],
   "source": [
    "10 - 7"
   ]
  },
  {
   "cell_type": "code",
   "execution_count": null,
   "id": "994ece69",
   "metadata": {},
   "outputs": [],
   "source": [
    "7 * 8"
   ]
  },
  {
   "cell_type": "code",
   "execution_count": null,
   "id": "0304340e",
   "metadata": {},
   "outputs": [],
   "source": [
    "10 / 4"
   ]
  },
  {
   "cell_type": "code",
   "execution_count": null,
   "id": "03fc95e0",
   "metadata": {},
   "outputs": [],
   "source": [
    "10 // 4"
   ]
  },
  {
   "cell_type": "code",
   "execution_count": null,
   "id": "74232369",
   "metadata": {},
   "outputs": [],
   "source": [
    "2 ** 4"
   ]
  },
  {
   "cell_type": "code",
   "execution_count": null,
   "id": "b9ab2022",
   "metadata": {},
   "outputs": [],
   "source": [
    "16 ** 0.5"
   ]
  },
  {
   "cell_type": "markdown",
   "id": "b94556f0",
   "metadata": {
    "lines_to_next_cell": 0
   },
   "source": [
    "\n",
    "Using the hash sign (``#``), we can add comments to our code to add notes for ourselves or others.\n"
   ]
  },
  {
   "cell_type": "code",
   "execution_count": null,
   "id": "c2e44cf9",
   "metadata": {},
   "outputs": [],
   "source": [
    "# Comments (starting with '#') are ignored by Python"
   ]
  },
  {
   "cell_type": "markdown",
   "id": "c4da3372",
   "metadata": {
    "lines_to_next_cell": 0
   },
   "source": [
    "## 0.2 Variables\n",
    "\n",
    "**Variables** are used to store values for later use.\n",
    "They are defined by assigning a value (right hand side) to a custom variable name (left hand side), with an equals sign (``=``) in between.\n",
    "We can print the value of a variable by simply typing its name (or, alternatively, by using the ``print()`` function).\n"
   ]
  },
  {
   "cell_type": "code",
   "execution_count": null,
   "id": "b54914e0",
   "metadata": {},
   "outputs": [],
   "source": [
    "a = 3\n",
    "a"
   ]
  },
  {
   "cell_type": "code",
   "execution_count": null,
   "id": "6c11b5b6",
   "metadata": {},
   "outputs": [],
   "source": [
    "a = 3\n",
    "b = 4\n",
    "c = a + b\n",
    "c"
   ]
  },
  {
   "cell_type": "code",
   "execution_count": null,
   "id": "0db0c235",
   "metadata": {},
   "outputs": [],
   "source": [
    "a = 3\n",
    "a = 5\n",
    "a"
   ]
  },
  {
   "cell_type": "code",
   "execution_count": null,
   "id": "70b957fa",
   "metadata": {},
   "outputs": [],
   "source": [
    "a = 3\n",
    "b = a\n",
    "a = 5\n",
    "b"
   ]
  },
  {
   "cell_type": "markdown",
   "id": "ff083b42",
   "metadata": {
    "lines_to_next_cell": 0
   },
   "source": [
    "## 0.3 Data types\n",
    "\n",
    "So far, we have only used single numbers, but Python also supports many other types of data.\n",
    "An important distinction is between **scalars** (single values, such as a single number) and **iterables** (collections of values, such as a list of numbers).\n"
   ]
  },
  {
   "cell_type": "markdown",
   "id": "e3e6064e",
   "metadata": {
    "lines_to_next_cell": 0
   },
   "source": [
    "### 0.3.1 Scalars\n"
   ]
  },
  {
   "cell_type": "markdown",
   "id": "92e97664",
   "metadata": {
    "lines_to_next_cell": 0
   },
   "source": [
    "An **integer** (``int``) is a whole number (positive or negative).\n"
   ]
  },
  {
   "cell_type": "code",
   "execution_count": null,
   "id": "27993b45",
   "metadata": {},
   "outputs": [],
   "source": [
    "my_var = 3\n",
    "type(my_var)"
   ]
  },
  {
   "cell_type": "markdown",
   "id": "bb136b13",
   "metadata": {
    "lines_to_next_cell": 0
   },
   "source": [
    "\n",
    "A **float** (``float``) is a number with a decimal point.\n"
   ]
  },
  {
   "cell_type": "code",
   "execution_count": null,
   "id": "271135fb",
   "metadata": {},
   "outputs": [],
   "source": [
    "my_var = 3.0\n",
    "type(my_var)"
   ]
  },
  {
   "cell_type": "markdown",
   "id": "e94c1656",
   "metadata": {
    "lines_to_next_cell": 0
   },
   "source": [
    "\n",
    "A **string** (``str``) is a sequence of characters (letters, numbers, symbols).\n"
   ]
  },
  {
   "cell_type": "code",
   "execution_count": null,
   "id": "156a115b",
   "metadata": {},
   "outputs": [],
   "source": [
    "my_var = 'Hello world'\n",
    "type(my_var)"
   ]
  },
  {
   "cell_type": "markdown",
   "id": "c5999a48",
   "metadata": {
    "lines_to_next_cell": 0
   },
   "source": [
    "\n",
    "A **Boolean** (``bool``) is one of the two logical values ``True`` or ``False``.\n"
   ]
  },
  {
   "cell_type": "code",
   "execution_count": null,
   "id": "46eebb1e",
   "metadata": {},
   "outputs": [],
   "source": [
    "my_var = True\n",
    "type(my_var)"
   ]
  },
  {
   "cell_type": "markdown",
   "id": "598b427c",
   "metadata": {
    "lines_to_next_cell": 0
   },
   "source": [
    "\n",
    "**``None``** is a special value that represents the absence of a value.\n"
   ]
  },
  {
   "cell_type": "code",
   "execution_count": null,
   "id": "8a2782d4",
   "metadata": {},
   "outputs": [],
   "source": [
    "my_var = None\n",
    "type(my_var)"
   ]
  },
  {
   "cell_type": "markdown",
   "id": "ed6dbc5a",
   "metadata": {
    "lines_to_next_cell": 0
   },
   "source": [
    "### 0.3.2 Iterables\n"
   ]
  },
  {
   "cell_type": "markdown",
   "id": "8acf6a6c",
   "metadata": {
    "lines_to_next_cell": 0
   },
   "source": [
    "\n",
    "A **list** (``list``) is a collection of values and is defined by square brackets.\n"
   ]
  },
  {
   "cell_type": "code",
   "execution_count": null,
   "id": "443f43cb",
   "metadata": {},
   "outputs": [],
   "source": [
    "my_var = [1, 2, 3]\n",
    "type(my_var)"
   ]
  },
  {
   "cell_type": "markdown",
   "id": "0059f4fa",
   "metadata": {
    "lines_to_next_cell": 0
   },
   "source": [
    "\n",
    "Elements of a list can be accessed via their index (starting at ``0``, unlike R or MATLAB) in square brackets.\n"
   ]
  },
  {
   "cell_type": "code",
   "execution_count": null,
   "id": "769c26cb",
   "metadata": {},
   "outputs": [],
   "source": [
    "my_var[1]"
   ]
  },
  {
   "cell_type": "markdown",
   "id": "73209cea",
   "metadata": {
    "lines_to_next_cell": 0
   },
   "source": [
    "\n",
    "This can also be used to change the value of an element.\n",
    "Note that, as shown here, lists can contain elements of different types (unlike vectors in R).\n"
   ]
  },
  {
   "cell_type": "code",
   "execution_count": null,
   "id": "0f20284e",
   "metadata": {},
   "outputs": [],
   "source": [
    "my_var[2] = 'Hooray!'\n",
    "my_var"
   ]
  },
  {
   "cell_type": "markdown",
   "id": "b2518a0f",
   "metadata": {
    "lines_to_next_cell": 0
   },
   "source": [
    "\n",
    "A **tuple** (``tuple``) works like a list, but cannot be changed after it has been created (it is \"immutable\").\n",
    "It is defined by round brackets.\n"
   ]
  },
  {
   "cell_type": "code",
   "execution_count": null,
   "id": "6c0063d7",
   "metadata": {},
   "outputs": [],
   "source": [
    "my_var = (1, 2, 3)\n",
    "type(my_var)"
   ]
  },
  {
   "cell_type": "code",
   "execution_count": null,
   "id": "1c446a3a",
   "metadata": {
    "lines_to_next_cell": 2
   },
   "outputs": [],
   "source": [
    "my_var[1]"
   ]
  },
  {
   "cell_type": "code",
   "execution_count": null,
   "id": "c3c8b426",
   "metadata": {
    "tags": [
     "raises-exception"
    ]
   },
   "outputs": [],
   "source": [
    "my_var[2] = 'Hooray!'"
   ]
  },
  {
   "cell_type": "markdown",
   "id": "848e568f",
   "metadata": {
    "lines_to_next_cell": 0
   },
   "source": [
    "\n",
    "A **dictionary** (``dict``) is a collection of key-value pairs and is defined by curly brackets.\n",
    "The keys (usually some kind of labels) can then be used to access the corresponding values (usually some kinds of data).\n"
   ]
  },
  {
   "cell_type": "code",
   "execution_count": null,
   "id": "8c68a72d",
   "metadata": {},
   "outputs": [],
   "source": [
    "my_var = {'Name': 'Berger', 'First_name': 'Hans', 'age': 53, 'married': True}\n",
    "type(my_var)"
   ]
  },
  {
   "cell_type": "code",
   "execution_count": null,
   "id": "b16ef9a3",
   "metadata": {},
   "outputs": [],
   "source": [
    "my_var['First_name']"
   ]
  },
  {
   "cell_type": "markdown",
   "id": "1e25a9d4",
   "metadata": {
    "lines_to_next_cell": 0
   },
   "source": [
    "## 0.4 Loops\n",
    "\n",
    "Loops are used to repeat a certain operation multiple times.\n",
    "The most common type of loop is a **for loop**, which iterates over the elements of an iterable (such as a list).\n"
   ]
  },
  {
   "cell_type": "code",
   "execution_count": null,
   "id": "237cf2b8",
   "metadata": {},
   "outputs": [],
   "source": [
    "names = ['Alice', 'Bob', 'Chantoya']\n",
    "for name in names:\n",
    "    print('Hello ' + name)"
   ]
  },
  {
   "cell_type": "markdown",
   "id": "0b9d5fef",
   "metadata": {
    "lines_to_next_cell": 0
   },
   "source": [
    "\n",
    "Note that the operations inside the loop need to be indented by exactly four spaces.\n",
    "Python, unlike R, is very strict about indentation.\n",
    "\n",
    "It is often useful to store the results of a loop in a new list.\n"
   ]
  },
  {
   "cell_type": "code",
   "execution_count": null,
   "id": "ab86418f",
   "metadata": {},
   "outputs": [],
   "source": [
    "names = ['Alice', 'Bob', 'Chantoya']\n",
    "greetings = []\n",
    "for name in names:\n",
    "    greetings.append('Hello ' + name)\n",
    "greetings"
   ]
  },
  {
   "cell_type": "markdown",
   "id": "5e085406",
   "metadata": {
    "lines_to_next_cell": 0
   },
   "source": [
    "## 0.5 Functions\n",
    "\n",
    "Functions are pre-defined operations that can be applied to some input data.\n",
    "Functions are called by writing their name, followed by round brackets containing the input arguments.\n",
    "\n",
    "As an example, the ``sum()`` function calculates the sum of all elements in a list.\n"
   ]
  },
  {
   "cell_type": "code",
   "execution_count": null,
   "id": "33700d20",
   "metadata": {},
   "outputs": [],
   "source": [
    "numbers = [1, 2, 3]\n",
    "sum(numbers)"
   ]
  },
  {
   "cell_type": "markdown",
   "id": "3da7e361",
   "metadata": {
    "lines_to_next_cell": 0
   },
   "source": [
    "\n",
    "The ``len()`` function returns the length of an iterable.\n"
   ]
  },
  {
   "cell_type": "code",
   "execution_count": null,
   "id": "ba82c6bb",
   "metadata": {},
   "outputs": [],
   "source": [
    "len(numbers)"
   ]
  },
  {
   "cell_type": "markdown",
   "id": "24abef2c",
   "metadata": {
    "lines_to_next_cell": 0
   },
   "source": [
    "\n",
    "We can also define our own custom functions like this:\n"
   ]
  },
  {
   "cell_type": "code",
   "execution_count": null,
   "id": "33cde25d",
   "metadata": {},
   "outputs": [],
   "source": [
    "\n",
    "\n",
    "def square(x):\n",
    "    \"\"\"Multiplies a number (x) by itself.\"\"\"\n",
    "    return x ** 2\n",
    "\n",
    "\n",
    "square(3)"
   ]
  },
  {
   "cell_type": "markdown",
   "id": "df84c47f",
   "metadata": {
    "lines_to_next_cell": 0
   },
   "source": [
    "\n",
    "Functions can have multiple input arguments.\n",
    "These can be specified by name (keyword arguments) or by position (positional arguments).\n"
   ]
  },
  {
   "cell_type": "code",
   "execution_count": null,
   "id": "1de38770",
   "metadata": {},
   "outputs": [],
   "source": [
    "\n",
    "\n",
    "def power(base, exponent):\n",
    "    \"\"\"Exponentiates a number (base) to a given power (exponent).\"\"\"\n",
    "    return base ** exponent\n",
    "\n",
    "\n",
    "power(2, exponent=3)"
   ]
  },
  {
   "cell_type": "markdown",
   "id": "067be77a",
   "metadata": {
    "lines_to_next_cell": 0
   },
   "source": [
    "## 0.6 Modules\n",
    "\n",
    "Python only comes with a limited set of built-in functions like ``sum()`` and ``len()``.\n",
    "Many additional functions are provided by external **modules** (also called **packages**).\n",
    "\n",
    "To use these, we first need to install them (only once) and then import them (at the beginning of each script).\n",
    "As an example, we will install the ``numpy`` module for working with numerical data.\n"
   ]
  },
  {
   "cell_type": "code",
   "execution_count": null,
   "id": "c5b85ed8",
   "metadata": {},
   "outputs": [],
   "source": [
    "%pip install numpy"
   ]
  },
  {
   "cell_type": "code",
   "execution_count": null,
   "id": "75a069de",
   "metadata": {
    "lines_to_next_cell": 0
   },
   "outputs": [],
   "source": [
    "# We can now import the module and use its functions:\n",
    "#"
   ]
  },
  {
   "cell_type": "code",
   "execution_count": null,
   "id": "71eb5915",
   "metadata": {},
   "outputs": [],
   "source": [
    "import numpy\n",
    "\n",
    "numbers = [1, 2, 3]\n",
    "numpy.mean(numbers)"
   ]
  },
  {
   "cell_type": "markdown",
   "id": "8bad7110",
   "metadata": {
    "lines_to_next_cell": 0
   },
   "source": [
    "\n",
    "We can also import the module under a custom name (alias) to make it easier to use.\n",
    "This is very common for the ``numpy`` module, which is usually imported as ``np``.\n"
   ]
  },
  {
   "cell_type": "code",
   "execution_count": null,
   "id": "8fbf652b",
   "metadata": {},
   "outputs": [],
   "source": [
    "import numpy as np\n",
    "\n",
    "np.mean(numbers)"
   ]
  },
  {
   "cell_type": "markdown",
   "id": "d36a1ade",
   "metadata": {
    "lines_to_next_cell": 0
   },
   "source": [
    "\n",
    "We can also import only specific functions from a module:\n"
   ]
  },
  {
   "cell_type": "code",
   "execution_count": null,
   "id": "29ce5a56",
   "metadata": {},
   "outputs": [],
   "source": [
    "from numpy import mean\n",
    "\n",
    "mean(numbers)"
   ]
  },
  {
   "cell_type": "markdown",
   "id": "b3f29eb8",
   "metadata": {},
   "source": [
    "Numpy can also be used to create arrays, which are similar to lists but with two important differences:\n",
    "- Arrays can only contain elements of the same type (e.g., only floats)\n",
    "- Arrays can be multi-dimensional (e.g., a 2D matrix with two rows and three columns)"
   ]
  },
  {
   "cell_type": "code",
   "execution_count": null,
   "id": "d4791340",
   "metadata": {},
   "outputs": [],
   "source": [
    "my_array = np.array([[1, 2, 3], [4, 5, 6]])\n",
    "np.mean(my_array)"
   ]
  },
  {
   "cell_type": "code",
   "execution_count": null,
   "id": "d5ccaa71",
   "metadata": {},
   "outputs": [],
   "source": [
    "np.mean(my_array, axis=0)"
   ]
  },
  {
   "cell_type": "code",
   "execution_count": null,
   "id": "7836df4b",
   "metadata": {},
   "outputs": [],
   "source": [
    "np.mean(my_array, axis=1)"
   ]
  }
 ],
 "metadata": {
  "jupytext": {
   "cell_metadata_filter": "tags,-all",
   "main_language": "python",
   "notebook_metadata_filter": "-all"
  }
 },
 "nbformat": 4,
 "nbformat_minor": 5
}
