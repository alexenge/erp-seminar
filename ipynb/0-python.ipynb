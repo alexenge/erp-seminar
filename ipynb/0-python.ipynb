{
  "cells": [
    {
      "cell_type": "markdown",
      "id": "30c0b3af",
      "metadata": {
        "lines_to_next_cell": 0
      },
      "source": [
        "# 0. Intro to Python\n",
        "\n",
        "<!--<badge>--><a href=\"https://colab.research.google.com/github/alexenge/intro-to-eeg/blob/main/ipynb/0-python.ipynb\" target=\"_parent\"><img src=\"https://colab.research.google.com/assets/colab-badge.svg\" alt=\"Open In Colab\"/></a><!--</badge>-->\n",
        "<br><br>\n",
        "\n",
        "In this course, we will us the Python programming language for analyzing EEG data.\n",
        "Python as an open source programming language that is used in many areas of science and engineering.\n",
        "It is very similar to the [R language](https://www.r-project.org) that you might know from your statistics classes, but slightly more general and more widely used outside of psychology.\n",
        "This first section of the course will provide a very brief introduction into the Python language.\n",
        "\n",
        "In this section we will:\n",
        "- Use Python as a calculator\n",
        "- Define variables\n",
        "- Meet different data types\n",
        "- Run loops\n",
        "- Run functions\n",
        "- Load modules\n"
      ]
    },
    {
      "cell_type": "markdown",
      "id": "f6e01bc8",
      "metadata": {
        "lines_to_next_cell": 0
      },
      "source": [
        "## 0.1 Calculations\n",
        "\n",
        "Like most programming languages, Python can perform basic arithmetic operations like addition, subtraction, multiplication, and division.\n"
      ]
    },
    {
      "cell_type": "code",
      "execution_count": null,
      "id": "f4f412a4",
      "metadata": {},
      "outputs": [],
      "source": [
        "3 + 3"
      ]
    },
    {
      "cell_type": "code",
      "execution_count": null,
      "id": "54154c91",
      "metadata": {},
      "outputs": [],
      "source": [
        "10 - 7"
      ]
    },
    {
      "cell_type": "code",
      "execution_count": null,
      "id": "19ea3131",
      "metadata": {},
      "outputs": [],
      "source": [
        "7 * 8"
      ]
    },
    {
      "cell_type": "code",
      "execution_count": null,
      "id": "01e4ca37",
      "metadata": {},
      "outputs": [],
      "source": [
        "10 / 4"
      ]
    },
    {
      "cell_type": "code",
      "execution_count": null,
      "id": "be292c0a",
      "metadata": {},
      "outputs": [],
      "source": [
        "10 // 4"
      ]
    },
    {
      "cell_type": "code",
      "execution_count": null,
      "id": "41974843",
      "metadata": {},
      "outputs": [],
      "source": [
        "2 ** 4"
      ]
    },
    {
      "cell_type": "code",
      "execution_count": null,
      "id": "3dba18c8",
      "metadata": {},
      "outputs": [],
      "source": [
        "16 ** 0.5"
      ]
    },
    {
      "cell_type": "markdown",
      "id": "060059ee",
      "metadata": {
        "lines_to_next_cell": 0
      },
      "source": [
        "\n",
        "Using the hash sign (``#``), we can add comments to our code to add notes for ourselves or others.\n"
      ]
    },
    {
      "cell_type": "code",
      "execution_count": null,
      "id": "7b59f16f",
      "metadata": {},
      "outputs": [],
      "source": [
        "# Comments (starting with '#') are ignored by Python"
      ]
    },
    {
      "cell_type": "markdown",
      "id": "d35105ad",
      "metadata": {
        "lines_to_next_cell": 0
      },
      "source": [
        "\n",
        "**Variables** are used to store values for later use.\n",
        "They are defined by assigning a value (right hand side) to a custom variable name (left hand side), with an equals sign (``=``) in between.\n",
        "We can print the value of a variable by simply typing its name (or, alternatively, by using the ``print()`` function).\n"
      ]
    },
    {
      "cell_type": "markdown",
      "id": "243ede37",
      "metadata": {
        "lines_to_next_cell": 0
      },
      "source": [
        "## 0.2 Variables\n"
      ]
    },
    {
      "cell_type": "code",
      "execution_count": null,
      "id": "94bd6acd",
      "metadata": {},
      "outputs": [],
      "source": [
        "a = 3\n",
        "a"
      ]
    },
    {
      "cell_type": "code",
      "execution_count": null,
      "id": "7d6a69af",
      "metadata": {},
      "outputs": [],
      "source": [
        "a = 3\n",
        "b = 4\n",
        "c = a + b\n",
        "c"
      ]
    },
    {
      "cell_type": "code",
      "execution_count": null,
      "id": "0d0661a5",
      "metadata": {},
      "outputs": [],
      "source": [
        "a = 3\n",
        "a = 5\n",
        "a"
      ]
    },
    {
      "cell_type": "code",
      "execution_count": null,
      "id": "306e563d",
      "metadata": {},
      "outputs": [],
      "source": [
        "a = 3\n",
        "b = a\n",
        "a = 5\n",
        "b"
      ]
    },
    {
      "cell_type": "markdown",
      "id": "10dd1df7",
      "metadata": {
        "lines_to_next_cell": 0
      },
      "source": [
        "## 0.3 Data types\n",
        "\n",
        "So far, we have only used single numbers, but Python also supports many other types of data.\n",
        "An important distinction is between **scalars** (single values, such as a single number) and **iterables** (collections of values, such as a list of numbers).\n"
      ]
    },
    {
      "cell_type": "markdown",
      "id": "a43758c3",
      "metadata": {
        "lines_to_next_cell": 0
      },
      "source": [
        "### 0.3.1 Scalars\n"
      ]
    },
    {
      "cell_type": "markdown",
      "id": "5c0b82d8",
      "metadata": {
        "lines_to_next_cell": 0
      },
      "source": [
        "An **integer** (``int``) is a whole number (positive or negative).\n"
      ]
    },
    {
      "cell_type": "code",
      "execution_count": null,
      "id": "2e9dd923",
      "metadata": {},
      "outputs": [],
      "source": [
        "my_var = 3\n",
        "type(my_var)"
      ]
    },
    {
      "cell_type": "markdown",
      "id": "fc24e03f",
      "metadata": {
        "lines_to_next_cell": 0
      },
      "source": [
        "\n",
        "A **float** (``float``) is a number with a decimal point.\n"
      ]
    },
    {
      "cell_type": "code",
      "execution_count": null,
      "id": "093d08d8",
      "metadata": {},
      "outputs": [],
      "source": [
        "my_var = 3.0\n",
        "type(my_var)"
      ]
    },
    {
      "cell_type": "markdown",
      "id": "41938d81",
      "metadata": {
        "lines_to_next_cell": 0
      },
      "source": [
        "\n",
        "A **string** (``str``) is a sequence of characters (letters, numbers, symbols).\n"
      ]
    },
    {
      "cell_type": "code",
      "execution_count": null,
      "id": "d9a2ed0a",
      "metadata": {},
      "outputs": [],
      "source": [
        "my_var = 'Hello world'\n",
        "type(my_var)"
      ]
    },
    {
      "cell_type": "markdown",
      "id": "ad1503e2",
      "metadata": {
        "lines_to_next_cell": 0
      },
      "source": [
        "\n",
        "A **Boolean** (``bool``) is one of the two logical values ``True`` or ``False``.\n"
      ]
    },
    {
      "cell_type": "code",
      "execution_count": null,
      "id": "cf11572b",
      "metadata": {},
      "outputs": [],
      "source": [
        "my_var = True\n",
        "type(my_var)"
      ]
    },
    {
      "cell_type": "markdown",
      "id": "318ee0e6",
      "metadata": {
        "lines_to_next_cell": 0
      },
      "source": [
        "\n",
        "**``None``** is a special value that represents the absence of a value.\n"
      ]
    },
    {
      "cell_type": "code",
      "execution_count": null,
      "id": "f302c546",
      "metadata": {},
      "outputs": [],
      "source": [
        "my_var = None\n",
        "type(my_var)"
      ]
    },
    {
      "cell_type": "markdown",
      "id": "c7d7869d",
      "metadata": {
        "lines_to_next_cell": 0
      },
      "source": [
        "### 0.3.2 Iterables\n"
      ]
    },
    {
      "cell_type": "markdown",
      "id": "8a2f1655",
      "metadata": {
        "lines_to_next_cell": 0
      },
      "source": [
        "\n",
        "A **list** (``list``) is a collection of values and is defined by square brackets.\n"
      ]
    },
    {
      "cell_type": "code",
      "execution_count": null,
      "id": "f8343784",
      "metadata": {},
      "outputs": [],
      "source": [
        "my_var = [1, 2, 3]\n",
        "type(my_var)"
      ]
    },
    {
      "cell_type": "markdown",
      "id": "8ffd6122",
      "metadata": {
        "lines_to_next_cell": 0
      },
      "source": [
        "\n",
        "Elements of a list can be accessed via their index (starting at ``0``, unlike R or MATLAB) in square brackets.\n"
      ]
    },
    {
      "cell_type": "code",
      "execution_count": null,
      "id": "f3c314f5",
      "metadata": {},
      "outputs": [],
      "source": [
        "my_var[1]"
      ]
    },
    {
      "cell_type": "markdown",
      "id": "1b7a2245",
      "metadata": {
        "lines_to_next_cell": 0
      },
      "source": [
        "\n",
        "This can also be used to change the value of an element.\n",
        "Note that, as shown here, lists can contain elements of different types (unlike vectors in R).\n"
      ]
    },
    {
      "cell_type": "code",
      "execution_count": null,
      "id": "c2828ba2",
      "metadata": {},
      "outputs": [],
      "source": [
        "my_var[2] = 'Hooray!'\n",
        "my_var"
      ]
    },
    {
      "cell_type": "markdown",
      "id": "c5503619",
      "metadata": {
        "lines_to_next_cell": 0
      },
      "source": [
        "\n",
        "A **tuple** (``tuple``) works like a list, but cannot be changed after it has been created (it is \"immutable\").\n",
        "It is defined by round brackets.\n"
      ]
    },
    {
      "cell_type": "code",
      "execution_count": null,
      "id": "be3985a7",
      "metadata": {},
      "outputs": [],
      "source": [
        "my_var = (1, 2, 3)\n",
        "type(my_var)"
      ]
    },
    {
      "cell_type": "code",
      "execution_count": null,
      "id": "6b4044ec",
      "metadata": {
        "lines_to_next_cell": 2
      },
      "outputs": [],
      "source": [
        "my_var[1]"
      ]
    },
    {
      "cell_type": "code",
      "execution_count": null,
      "id": "3a21208b",
      "metadata": {
        "tags": [
          "raises-exception"
        ]
      },
      "outputs": [],
      "source": [
        "my_var[2] = 'Hooray!'"
      ]
    },
    {
      "cell_type": "markdown",
      "id": "4a1e6abc",
      "metadata": {
        "lines_to_next_cell": 0
      },
      "source": [
        "\n",
        "A **dictionary** (``dict``) is a collection of key-value pairs and is defined by curly brackets.\n",
        "The keys (usually some kind of labels) can then be used to access the corresponding values (usually some kinds of data).\n"
      ]
    },
    {
      "cell_type": "code",
      "execution_count": null,
      "id": "81f8f6e3",
      "metadata": {},
      "outputs": [],
      "source": [
        "my_var = {'Name': 'Berger', 'First_name': 'Hans', 'age': 53, 'married': True}\n",
        "type(my_var)"
      ]
    },
    {
      "cell_type": "code",
      "execution_count": null,
      "id": "0796be2e",
      "metadata": {},
      "outputs": [],
      "source": [
        "my_var['First_name']"
      ]
    },
    {
      "cell_type": "markdown",
      "id": "aebcf780",
      "metadata": {
        "lines_to_next_cell": 0
      },
      "source": [
        "## 0.4 Loops\n",
        "\n",
        "Loops are used to repeat a certain operation multiple times.\n",
        "The most common type of loop is a **for loop**, which iterates over the elements of an iterable (such as a list).\n"
      ]
    },
    {
      "cell_type": "code",
      "execution_count": null,
      "id": "4aeff592",
      "metadata": {},
      "outputs": [],
      "source": [
        "names = ['Alice', 'Bob', 'Chantoya']\n",
        "for name in names:\n",
        "    print('Hello ' + name)"
      ]
    },
    {
      "cell_type": "markdown",
      "id": "33cb7021",
      "metadata": {
        "lines_to_next_cell": 0
      },
      "source": [
        "\n",
        "Note that the operations inside the loop need to be indented by exactly four spaces.\n",
        "Python, unlike R, is very strict about indentation.\n",
        "\n",
        "It is often useful to store the results of a loop in a new list.\n"
      ]
    },
    {
      "cell_type": "code",
      "execution_count": null,
      "id": "34e54c82",
      "metadata": {},
      "outputs": [],
      "source": [
        "names = ['Alice', 'Bob', 'Chantoya']\n",
        "greetings = []\n",
        "for name in names:\n",
        "    greetings.append('Hello ' + name)\n",
        "greetings"
      ]
    },
    {
      "cell_type": "markdown",
      "id": "e4556500",
      "metadata": {
        "lines_to_next_cell": 0
      },
      "source": [
        "## 0.5 Functions\n",
        "\n",
        "Functions are pre-defined operations that can be applied to some input data.\n",
        "Functions are called by writing their name, followed by round brackets containing the input arguments.\n",
        "\n",
        "As an example, the ``sum()`` function calculates the sum of all elements in a list.\n"
      ]
    },
    {
      "cell_type": "code",
      "execution_count": null,
      "id": "db4d2724",
      "metadata": {},
      "outputs": [],
      "source": [
        "numbers = [1, 2, 3]\n",
        "sum(numbers)"
      ]
    },
    {
      "cell_type": "markdown",
      "id": "5b284ffc",
      "metadata": {
        "lines_to_next_cell": 0
      },
      "source": [
        "\n",
        "The ``len()`` function returns the length of an iterable.\n"
      ]
    },
    {
      "cell_type": "code",
      "execution_count": null,
      "id": "882e8ba4",
      "metadata": {},
      "outputs": [],
      "source": [
        "len(numbers)"
      ]
    },
    {
      "cell_type": "markdown",
      "id": "e38dc3ab",
      "metadata": {
        "lines_to_next_cell": 0
      },
      "source": [
        "\n",
        "We can also define our own custom functions like this:\n"
      ]
    },
    {
      "cell_type": "code",
      "execution_count": null,
      "id": "aabd9eb6",
      "metadata": {},
      "outputs": [],
      "source": [
        "\n",
        "\n",
        "def square(x):\n",
        "    \"\"\"Multiplies a number (x) by itself.\"\"\"\n",
        "    return x ** 2\n",
        "\n",
        "\n",
        "square(3)"
      ]
    },
    {
      "cell_type": "markdown",
      "id": "92d18854",
      "metadata": {
        "lines_to_next_cell": 0
      },
      "source": [
        "\n",
        "Functions can have multiple input arguments.\n",
        "These can be specified by name (keyword arguments) or by position (positional arguments).\n"
      ]
    },
    {
      "cell_type": "code",
      "execution_count": null,
      "id": "8d2fcd0c",
      "metadata": {},
      "outputs": [],
      "source": [
        "\n",
        "\n",
        "def power(base, exponent):\n",
        "    \"\"\"Exponentiates a number (base) to a given power (exponent).\"\"\"\n",
        "    return base ** exponent\n",
        "\n",
        "\n",
        "power(2, exponent=3)"
      ]
    },
    {
      "cell_type": "markdown",
      "id": "1f93fee7",
      "metadata": {
        "lines_to_next_cell": 0
      },
      "source": [
        "## 0.6 Modules\n",
        "\n",
        "Python only comes with a limited set of built-in functions like ``sum()`` and ``len()``.\n",
        "Many additional functions are provided by external **modules** (also called **packages**).\n",
        "\n",
        "To use these, we first need to install them (only once) and then import them (at the beginning of each script).\n",
        "As an example, we will install the ``numpy`` module for working with numerical data.\n"
      ]
    },
    {
      "cell_type": "code",
      "execution_count": null,
      "id": "f37e4c4e",
      "metadata": {},
      "outputs": [],
      "source": [
        "%pip install numpy"
      ]
    },
    {
      "cell_type": "code",
      "execution_count": null,
      "id": "28cef332",
      "metadata": {
        "lines_to_next_cell": 0
      },
      "outputs": [],
      "source": [
        "# We can now import the module and use its functions:\n",
        "#"
      ]
    },
    {
      "cell_type": "code",
      "execution_count": null,
      "id": "9c2dc08e",
      "metadata": {},
      "outputs": [],
      "source": [
        "import numpy\n",
        "\n",
        "numbers = [1, 2, 3]\n",
        "numpy.mean(numbers)"
      ]
    },
    {
      "cell_type": "markdown",
      "id": "4b67997e",
      "metadata": {
        "lines_to_next_cell": 0
      },
      "source": [
        "\n",
        "We can also import the module under a custom name (alias) to make it easier to use.\n",
        "This is very common for the ``numpy`` module, which is usually imported as ``np``.\n"
      ]
    },
    {
      "cell_type": "code",
      "execution_count": null,
      "id": "3860d578",
      "metadata": {},
      "outputs": [],
      "source": [
        "import numpy as np\n",
        "\n",
        "np.mean(numbers)"
      ]
    },
    {
      "cell_type": "markdown",
      "id": "0f9247ac",
      "metadata": {
        "lines_to_next_cell": 0
      },
      "source": [
        "\n",
        "We can also import only specific functions from a module:\n"
      ]
    },
    {
      "cell_type": "code",
      "execution_count": null,
      "id": "c411ba27",
      "metadata": {},
      "outputs": [],
      "source": [
        "from numpy import mean\n",
        "\n",
        "mean(numbers)"
      ]
    },
    {
      "cell_type": "markdown",
      "id": "d5eea0ec",
      "metadata": {},
      "source": [
        "Numpy can also be used to create arrays, which are similar to lists but with two important differences:\n",
        "- Arrays can only contain elements of the same type (e.g., only floats)\n",
        "- Arrays can be multi-dimensional (e.g., a 2D matrix with two rows and three columns)"
      ]
    },
    {
      "cell_type": "code",
      "execution_count": null,
      "id": "ce44902b",
      "metadata": {},
      "outputs": [],
      "source": [
        "my_array = np.array([[1, 2, 3], [4, 5, 6]])\n",
        "np.mean(my_array)"
      ]
    },
    {
      "cell_type": "code",
      "execution_count": null,
      "id": "88b562ac",
      "metadata": {},
      "outputs": [],
      "source": [
        "np.mean(my_array, axis=0)"
      ]
    },
    {
      "cell_type": "code",
      "execution_count": null,
      "id": "b2e36a5a",
      "metadata": {},
      "outputs": [],
      "source": [
        "np.mean(my_array, axis=1)"
      ]
    }
  ],
  "metadata": {
    "jupytext": {
      "cell_metadata_filter": "tags,-all",
      "main_language": "python",
      "notebook_metadata_filter": "-all"
    }
  },
  "nbformat": 4,
  "nbformat_minor": 5
}